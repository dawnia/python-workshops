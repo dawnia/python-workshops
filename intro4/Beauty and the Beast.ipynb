{
 "cells": [
  {
   "cell_type": "markdown",
   "metadata": {},
   "source": [
    "## Beauty and Beast Speech Analysis\n",
    "\n",
    "In their recent paper, \"A quantitative analysis of gendered compliments in Disney Princess films,\" Carmen Fought and Karen Eisenhauer found that female characters in the classic Disney princess movies had more dialogue than female characters in more recent Disney films. I found the script to Beauty and the Beast online, so I quickly replicated part of their analysis for that movie in Python. \n",
    "\n",
    "As a bonus, I include an analysis of Toy Story at the end. The script was in a different format and I used more [pandas](http://pandas.pydata.org). 91% male speakers in that film.\n",
    "\n",
    "\n",
    "**Neal Caren** - University of North Carolina, Chapel Hill\n",
    "[mail](mailto:neal.caren@unc.edu),\n",
    "[web](http://nealcaren.web.unc.edu)\n",
    "[twitter](http://twitter.com/HaphazardSoc)\n",
    "[scholar](http://scholar.google.com/citations?user=cy0u16kAAAAJ&hl=en)"
   ]
  },
  {
   "cell_type": "code",
   "execution_count": 1,
   "metadata": {
    "collapsed": false
   },
   "outputs": [],
   "source": [
    "from __future__ import division\n",
    "\n",
    "import re\n",
    "from collections import defaultdict\n",
    "\n",
    "import requests\n",
    "import pandas as pd\n",
    "import matplotlib\n",
    "\n",
    "%matplotlib inline\n",
    "matplotlib.style.use('ggplot')\n"
   ]
  },
  {
   "cell_type": "code",
   "execution_count": 2,
   "metadata": {
    "collapsed": true
   },
   "outputs": [],
   "source": [
    "# Load the script which comes as a text file\n",
    "\n",
    "script_url = 'http://www.fpx.de/fp/Disney/Scripts/BeautyAndTheBeast.txt'\n",
    "script = requests.get(script_url).text"
   ]
  },
  {
   "cell_type": "code",
   "execution_count": 3,
   "metadata": {
    "collapsed": false
   },
   "outputs": [
    {
     "data": {
      "text/plain": [
       "['<pre>',\n",
       " 'Beauty and the Beast',\n",
       " 'The Complete Script',\n",
       " '',\n",
       " 'Compiled by Ben Scripps <34rqnpq@cmuvm.csv.cmich.edu>',\n",
       " '',\n",
       " 'NARRATOR:     Once upon a time, in a faraway land, a young prince lived in a',\n",
       " '              shining castle.  Although he had everything his heart desired,',\n",
       " '              the prince was spoiled, selfish, and unkind.  But then, one',\n",
       " \"              winter's night, an old beggar woman came to the castle and\",\n",
       " '              offered him a single rose in return for shelter from the bitter',\n",
       " '              cold. Repulsed by her haggard appearance, the prince sneered at',\n",
       " '              the gift and turned the old woman away, but she warned him not',\n",
       " '              to be deceived by appearances, for beauty is found within.  ',\n",
       " \"              And when he dismissed her again, the old woman's ugliness\",\n",
       " '              melted away to reveal a beautiful enchantress.  The prince',\n",
       " '              tried to apologize, but it was too late, for she had seen that',\n",
       " '              there was no love in his heart, and as punishment, she',\n",
       " '              transformed him into a hideous beast, and placed a',\n",
       " '              powerful spell on the castle, and all who lived there.']"
      ]
     },
     "execution_count": 3,
     "metadata": {},
     "output_type": "execute_result"
    }
   ],
   "source": [
    "# Let's look at the beginning of the script\n",
    "\n",
    "script.splitlines()[:20]"
   ]
  },
  {
   "cell_type": "code",
   "execution_count": 4,
   "metadata": {
    "collapsed": false
   },
   "outputs": [
    {
     "data": {
      "text/plain": [
       "['MAURICE:      How did you find me?',\n",
       " 'BELLE:        Oh, your hands are like ice.  We have to get you out of here.',\n",
       " 'MAURICE:      Belle, I want you to leave this place.',\n",
       " \"BELLE:        Who's done this to you?\",\n",
       " 'MAURICE:      No time to explain. You must go...now!',\n",
       " \"BELLE:        I won't leave you!\",\n",
       " \"(Suddenly, BEAST grabs BELLE's shoulder and whips her around.  She drops the\",\n",
       " 'torch she was carrying into a puddle and the room is dark except for one beam',\n",
       " 'of',\n",
       " 'light from a skylight.)',\n",
       " 'BEAST:        What are you doing here?',\n",
       " 'MAURICE:      Run, Belle!',\n",
       " \"BELLE:        Who's there? Who are you?\",\n",
       " 'BEAST:        The master of this castle.',\n",
       " \"BELLE:        I've come for my father.  Please let him out!  Can't you see he's\",\n",
       " '              sick?',\n",
       " \"BEAST:        Then he shouldn't have trespassed here.\",\n",
       " \"BELLE:        But he could die.  Please, I'll do anything!\",\n",
       " \"BEAST:        There's nothing you can do.  He's my prisoner.\",\n",
       " 'BELLE:        Oh, there must be some way I can...wait!  Take me, instead!']"
      ]
     },
     "execution_count": 4,
     "metadata": {},
     "output_type": "execute_result"
    }
   ],
   "source": [
    "# Let's look at a random place\n",
    "\n",
    "script.splitlines()[500:520]"
   ]
  },
  {
   "cell_type": "code",
   "execution_count": 5,
   "metadata": {
    "collapsed": false
   },
   "outputs": [],
   "source": [
    "# seems fairly easy to parse since \n",
    "# each new speaking line has : and begins with all caps\n",
    "\n",
    "def remove_spaces(line):\n",
    "    # remove the weird spaces\n",
    "    return re.sub(' +',' ',line)\n",
    "\n",
    "def remove_paren(line):\n",
    "    # remove directions that are not spoken\n",
    "    return re.sub(r'\\([^)]*\\)', '', line)\n",
    "\n",
    "\n",
    "lines = []\n",
    "line = ''\n",
    "for row in script.splitlines():\n",
    "    if ': ' in row and row[:3].upper() == row[:3]:\n",
    "        line = remove_spaces(line)\n",
    "        line = remove_paren(line)\n",
    "        lines.append(line)\n",
    "        line = row\n",
    "    elif '          ' in row:\n",
    "        line = line + ' ' + row.lstrip()\n",
    "# don't forget the last line\n",
    "lines.append(remove_spaces(line))"
   ]
  },
  {
   "cell_type": "code",
   "execution_count": 6,
   "metadata": {
    "collapsed": false
   },
   "outputs": [
    {
     "data": {
      "text/plain": [
       "['',\n",
       " \"NARRATOR: Once upon a time, in a faraway land, a young prince lived in a shining castle. Although he had everything his heart desired, the prince was spoiled, selfish, and unkind. But then, one winter's night, an old beggar woman came to the castle and offered him a single rose in return for shelter from the bitter cold. Repulsed by her haggard appearance, the prince sneered at the gift and turned the old woman away, but she warned him not to be deceived by appearances, for beauty is found within. And when he dismissed her again, the old woman's ugliness melted away to reveal a beautiful enchantress. The prince tried to apologize, but it was too late, for she had seen that there was no love in his heart, and as punishment, she transformed him into a hideous beast, and placed a powerful spell on the castle, and all who lived there. Ashamed of his monstrous form, the beast concealed himself inside his castle, with a magic mirror as his only window to the outside world. The rose she had offered was truly an enchanted rose, which would bloom until his twenty-first year. If he could learn to love another, and earn her love in return by the time the last petal fell, then the spell would be broken. If not, he would be doomed to remain a beast for all time. As the years passed, he fell into despair, and lost all hope, for who could ever learn to love a beast?\",\n",
       " \"BELLE: Little town, it's a quiet village Every day, like the one before Little town, full of little people Waking up to say...\",\n",
       " 'TOWNSFOLK 1: Bonjour!',\n",
       " 'TOWNSFOLK 2: Bonjour!',\n",
       " 'TOWNSFOLK 3: Bonjour! ',\n",
       " 'TOWNSFOLK 4: Bonjour!',\n",
       " 'TOWNSFOLK 5: Bonjour!',\n",
       " \"BELLE: There goes the baker with his tray like always The same old bread and rolls to sell Ev'ry morning just the same Since the morning that we came To this poor provincial town...\",\n",
       " 'BAKER: Good morning, Belle!',\n",
       " 'BELLE: Morning monsieur!',\n",
       " 'BAKER: Where are you off to?',\n",
       " 'BELLE: The bookshop! I just finished the most wonderful story, about a beanstalk and an ogre and...',\n",
       " \"BAKER:  That's nice...Marie, the baguettes! Hurry up!!\",\n",
       " \"TOWNSFOLK: Look there she goes, that girl is strange no question Dazed and distracted, can't you tell?\"]"
      ]
     },
     "execution_count": 6,
     "metadata": {},
     "output_type": "execute_result"
    }
   ],
   "source": [
    "lines[:15]"
   ]
  },
  {
   "cell_type": "code",
   "execution_count": 7,
   "metadata": {
    "collapsed": false
   },
   "outputs": [
    {
     "data": {
      "text/plain": [
       "['LUMIERE: En garde, you overgrown pocket watch! ',\n",
       " 'CHIP: Are they gonna live happily ever after, mama?',\n",
       " 'MRS. POTTS: Of course, my dear. Of course.',\n",
       " 'CHIP:  Do I still have to sleep in the cupboard?',\n",
       " 'CHORUS: Certain as the sun Rising in the east Tale as old as time, song as old as rhyme Beauty and the beast! Tale as old as time, song as old as rhyme Beauty and the beast!']"
      ]
     },
     "execution_count": 7,
     "metadata": {},
     "output_type": "execute_result"
    }
   ],
   "source": [
    "# How does the end look\n",
    "\n",
    "lines[-5:]"
   ]
  },
  {
   "cell_type": "code",
   "execution_count": 8,
   "metadata": {
    "collapsed": false
   },
   "outputs": [
    {
     "name": "stdout",
     "output_type": "stream",
     "text": [
      "690\n",
      "689\n"
     ]
    }
   ],
   "source": [
    "# remove blank lines, if any\n",
    "\n",
    "print(len(lines))\n",
    "lines = [l for l in lines if len(l) > 0]\n",
    "print (len(lines))"
   ]
  },
  {
   "cell_type": "code",
   "execution_count": 9,
   "metadata": {
    "collapsed": false
   },
   "outputs": [],
   "source": [
    "# now figure out the roles and how many times they appear\n",
    "\n",
    "roles = defaultdict(int)\n",
    "\n",
    "for line in lines:\n",
    "    # take advantage of the fact that the speaker is always listed before the :\n",
    "    speaker = line.split(':')[0]\n",
    "    roles[speaker] = roles[speaker] + 1"
   ]
  },
  {
   "cell_type": "code",
   "execution_count": 10,
   "metadata": {
    "collapsed": false
   },
   "outputs": [
    {
     "data": {
      "text/plain": [
       "59"
      ]
     },
     "execution_count": 10,
     "metadata": {},
     "output_type": "execute_result"
    }
   ],
   "source": [
    "len(roles)"
   ]
  },
  {
   "cell_type": "code",
   "execution_count": 11,
   "metadata": {
    "collapsed": false
   },
   "outputs": [
    {
     "data": {
      "text/plain": [
       "defaultdict(int,\n",
       "            {' to think about': 1,\n",
       "             'ALL': 14,\n",
       "             'BAKER': 3,\n",
       "             'BARBER': 1,\n",
       "             'BEAST': 79,\n",
       "             'BELLE': 137,\n",
       "             'BIMBETTE 1': 1,\n",
       "             'BIMBETTE 2': 1,\n",
       "             'BIMBETTE 3': 1,\n",
       "             'BIMBETTES': 2,\n",
       "             'BOOKSELLER': 6,\n",
       "             'BOTH': 3,\n",
       "             'BYSTANDERS': 1,\n",
       "             'CHIP': 24,\n",
       "             'CHORUS': 1,\n",
       "             'COGSWORTH': 60,\n",
       "             'CRONY 1': 2,\n",
       "             'CRONY 2': 1,\n",
       "             'CRONY 3': 1,\n",
       "             \"D'ARQUE\": 5,\n",
       "             'DRIVER': 2,\n",
       "             'GASTON': 66,\n",
       "             'GROUP 1': 1,\n",
       "             'GROUP 2': 1,\n",
       "             'LEFOU': 35,\n",
       "             'LUMIERE': 67,\n",
       "             'MAN 1': 3,\n",
       "             'MAN 2': 2,\n",
       "             'MAN 3': 2,\n",
       "             'MAN 4': 3,\n",
       "             'MAN 5': 2,\n",
       "             'MAN 6': 1,\n",
       "             'MAURICE': 66,\n",
       "             'MEN': 2,\n",
       "             'MERCHANT': 2,\n",
       "             'MOB': 7,\n",
       "             'MRS. POTTS': 43,\n",
       "             'MUGS': 1,\n",
       "             'NARRATOR': 1,\n",
       "             'OBJECTS': 1,\n",
       "             'OLD CRONIES': 4,\n",
       "             'OLD MAN': 1,\n",
       "             'PIERRE': 1,\n",
       "             'PRINCE': 2,\n",
       "             'STOVE': 1,\n",
       "             'TOWNSFOLK': 2,\n",
       "             'TOWNSFOLK 1': 1,\n",
       "             'TOWNSFOLK 2': 1,\n",
       "             'TOWNSFOLK 3': 1,\n",
       "             'TOWNSFOLK 4': 1,\n",
       "             'TOWNSFOLK 5': 1,\n",
       "             'WARDROBE': 6,\n",
       "             'WOMAN 1': 4,\n",
       "             'WOMAN 2': 2,\n",
       "             'WOMAN 3': 3,\n",
       "             'WOMAN 4': 3,\n",
       "             'WOMAN 5': 1,\n",
       "             'WOMEN': 1,\n",
       "             'WRESTLER': 1})"
      ]
     },
     "execution_count": 11,
     "metadata": {},
     "output_type": "execute_result"
    }
   ],
   "source": [
    "# take a look at the relative frequency of each role\n",
    "roles"
   ]
  },
  {
   "cell_type": "code",
   "execution_count": 12,
   "metadata": {
    "collapsed": true
   },
   "outputs": [],
   "source": [
    "# Looks like there is one bum line ('to think about'')\n",
    "# But I'll ignore that for now.\n",
    "\n",
    "# Quickly eye ball which roles are female and which are possibly mixed groups.\n",
    "\n",
    "females = ['WOMAN 1',\n",
    "           'WOMAN 2',\n",
    "           'WOMAN 3',\n",
    "           'WOMAN 4',\n",
    "           'WOMAN 5',\n",
    "           'OLD CRONIES',\n",
    "           'MRS. POTTS',\n",
    "           'BELLE',\n",
    "           'BIMBETTE 1'\n",
    "           'BIMBETTE 2',\n",
    "           'BIMBETTE 3']\n",
    "\n",
    "groups = ['MOB',\n",
    "          'ALL',\n",
    "          'BOTH']"
   ]
  },
  {
   "cell_type": "code",
   "execution_count": 13,
   "metadata": {
    "collapsed": false
   },
   "outputs": [
    {
     "name": "stdout",
     "output_type": "stream",
     "text": [
      "{'Male': 491, 'Female': 198}\n",
      "0.7126269956458636\n"
     ]
    }
   ],
   "source": [
    "# Mark each line of dialogue by sex and count them\n",
    "\n",
    "sex_lines = {'Male':   0,\n",
    "             'Female': 0}\n",
    "\n",
    "for line in lines:\n",
    "    # Extract speaker \n",
    "    speaker = line.split(':')[0]\n",
    "    \n",
    "    if speaker in females:\n",
    "        sex_lines['Female'] += 1\n",
    "        \n",
    "    elif sex_lines not in groups:\n",
    "        sex_lines['Male'] += 1\n",
    "\n",
    "print(sex_lines)\n",
    "print(sex_lines['Male']/(sex_lines['Male'] + sex_lines['Female']))"
   ]
  },
  {
   "cell_type": "code",
   "execution_count": 14,
   "metadata": {
    "collapsed": false
   },
   "outputs": [
    {
     "data": {
      "text/plain": [
       "<matplotlib.axes._subplots.AxesSubplot at 0x1186e7860>"
      ]
     },
     "execution_count": 14,
     "metadata": {},
     "output_type": "execute_result"
    },
    {
     "data": {
      "image/png": "[encoded data removed]",
      "text/plain": [
       "<matplotlib.figure.Figure at 0x10f86b518>"
      ]
     },
     "metadata": {},
     "output_type": "display_data"
    }
   ],
   "source": [
    "# Quick graphical representation \n",
    "\n",
    "df = pd.DataFrame([sex_lines.values()],columns=sex_lines.keys())\n",
    "df.plot(kind='bar')"
   ]
  },
  {
   "cell_type": "code",
   "execution_count": 15,
   "metadata": {
    "collapsed": false
   },
   "outputs": [
    {
     "name": "stdout",
     "output_type": "stream",
     "text": [
      "{'Male': 5359, 'Female': 2111}\n",
      "0.7174029451137884\n"
     ]
    }
   ],
   "source": [
    "# Maybe men and women talk for different lengths? This counts words instead of \n",
    "\n",
    "sex_words = {'Male':   0,\n",
    "             'Female': 0}\n",
    "\n",
    "for line in lines:\n",
    "    speaker = line.split(':')[0]\n",
    "    dialogue = line.split(':')[1]  \n",
    "    # remove the \n",
    "    # tokenize sentence by spaces\n",
    "    word_count = len(dialogue.split(' ')) \n",
    "                    \n",
    "    if speaker in females:\n",
    "        sex_words['Female'] += word_count\n",
    "    elif speaker not in groups:\n",
    "        sex_words['Male'] += word_count\n",
    "\n",
    "print(sex_words)\n",
    "print(sex_words['Male']/(sex_words['Male'] + sex_words['Female']))"
   ]
  },
  {
   "cell_type": "code",
   "execution_count": 16,
   "metadata": {
    "collapsed": false
   },
   "outputs": [
    {
     "data": {
      "text/plain": [
       "<matplotlib.axes._subplots.AxesSubplot at 0x1187090f0>"
      ]
     },
     "execution_count": 16,
     "metadata": {},
     "output_type": "execute_result"
    },
    {
     "data": {
      "image/png": "[encoded data removed]",
      "text/plain": [
       "<matplotlib.figure.Figure at 0x119016400>"
      ]
     },
     "metadata": {},
     "output_type": "display_data"
    }
   ],
   "source": [
    "# Quick graphical representation \n",
    "\n",
    "df = pd.DataFrame([sex_words.values()],columns=sex_words.keys())\n",
    "df.plot(kind='bar')"
   ]
  },
  {
   "cell_type": "code",
   "execution_count": 17,
   "metadata": {
    "collapsed": true
   },
   "outputs": [],
   "source": [
    "# Bonus toy story analysis\n",
    "\n",
    "url = 'http://www.dailyscript.com/scripts/toy_story.html'\n",
    "toy_story_script = requests.get(url).text"
   ]
  },
  {
   "cell_type": "code",
   "execution_count": 18,
   "metadata": {
    "collapsed": false
   },
   "outputs": [],
   "source": [
    "# toy_story_script.splitlines()[250:350]\n",
    "\n",
    "lines = []\n",
    "speaker = ''\n",
    "dialogue = ''\n",
    "for row in toy_story_script.splitlines()[90:]:\n",
    "    if '                     ' in row: \n",
    "        if ':' not in speaker:\n",
    "            lines.append( {'Speaker': remove_paren(speaker).strip(),\n",
    "                           'Dialogue': remove_paren(dialogue).strip() } )\n",
    "        \n",
    "        speaker = remove_spaces(row.strip())\n",
    "        dialogue = ''\n",
    "    elif '            ' in row:\n",
    "        dialogue = dialogue + ' ' + remove_spaces(row)\n",
    "lines.append( {'Speaker': remove_paren(speaker).strip(),\n",
    "               'Dialogue': remove_paren(dialogue).strip() } )"
   ]
  },
  {
   "cell_type": "code",
   "execution_count": 19,
   "metadata": {
    "collapsed": false
   },
   "outputs": [],
   "source": [
    "roles = defaultdict(int)\n",
    "\n",
    "for line in lines:\n",
    "    speaker = line['Speaker']\n",
    "    roles[speaker] = roles[speaker] + 1"
   ]
  },
  {
   "cell_type": "code",
   "execution_count": 20,
   "metadata": {
    "collapsed": false
   },
   "outputs": [
    {
     "data": {
      "text/html": [
       "<div>\n",
       "<table border=\"1\" class=\"dataframe\">\n",
       "  <thead>\n",
       "    <tr style=\"text-align: right;\">\n",
       "      <th></th>\n",
       "      <th>Dialogue</th>\n",
       "      <th>Speaker</th>\n",
       "    </tr>\n",
       "  </thead>\n",
       "  <tbody>\n",
       "    <tr>\n",
       "      <th>0</th>\n",
       "      <td>Alright everyone, this is a stick-  up! Don't ...</td>\n",
       "      <td>ANDY</td>\n",
       "    </tr>\n",
       "    <tr>\n",
       "      <th>1</th>\n",
       "      <td>Ooh! Money. Money. Money.</td>\n",
       "      <td>ANDY</td>\n",
       "    </tr>\n",
       "    <tr>\n",
       "      <th>2</th>\n",
       "      <td>Stop it! Stop it, you mean old  potato!</td>\n",
       "      <td>ANDY</td>\n",
       "    </tr>\n",
       "    <tr>\n",
       "      <th>3</th>\n",
       "      <td>Quiet Bo Peep, or your sheep get  run over!</td>\n",
       "      <td>ANDY</td>\n",
       "    </tr>\n",
       "    <tr>\n",
       "      <th>4</th>\n",
       "      <td>Heeeeelp! BAAAAA! Heeeelp us!</td>\n",
       "      <td>ANDY</td>\n",
       "    </tr>\n",
       "  </tbody>\n",
       "</table>\n",
       "</div>"
      ],
      "text/plain": [
       "                                            Dialogue Speaker\n",
       "0  Alright everyone, this is a stick-  up! Don't ...    ANDY\n",
       "1                          Ooh! Money. Money. Money.    ANDY\n",
       "2            Stop it! Stop it, you mean old  potato!    ANDY\n",
       "3        Quiet Bo Peep, or your sheep get  run over!    ANDY\n",
       "4                      Heeeeelp! BAAAAA! Heeeelp us!    ANDY"
      ]
     },
     "execution_count": 20,
     "metadata": {},
     "output_type": "execute_result"
    }
   ],
   "source": [
    "toy_story_df = pd.DataFrame(lines[1:])\n",
    "toy_story_df.head()"
   ]
  },
  {
   "cell_type": "code",
   "execution_count": 21,
   "metadata": {
    "collapsed": false
   },
   "outputs": [
    {
     "data": {
      "text/plain": [
       "WOODY                        290\n",
       "BUZZ                         145\n",
       "SID                           61\n",
       "ANDY                          58\n",
       "REX                           52\n",
       "MR. POTATO HEAD               52\n",
       "SLINKY                        34\n",
       "HAMM                          33\n",
       "MRS. DAVIS                    30\n",
       "SARGENT                       25\n",
       "HANNAH                        23\n",
       "BO PEEP                       23\n",
       "TV ANNOUNCER                   8\n",
       "LENNY                          5\n",
       "TOYS                           5\n",
       "PIZZA DELIVERER                5\n",
       "ALIENS                         4\n",
       "KID #1                         3\n",
       "ATTENDANT                      3\n",
       "SID'S MOM                      2\n",
       "TV BUZZ                        2\n",
       "MALE CHORUS                    2\n",
       "ROBOT GUARDS                   2\n",
       "MR. SPELL                      2\n",
       "ALIEN #2                       2\n",
       "ALIEN #1                       2\n",
       "ALIEN #3                       2\n",
       "ALIEN #4                       2\n",
       "RC CAR                         2\n",
       "SPACE COMMANDER                2\n",
       "KID #2                         2\n",
       "ALIEN                          1\n",
       "FADE OUT.                      1\n",
       "WOUNDED SOLDIER                1\n",
       "ROBOT                          1\n",
       "SHARK                          1\n",
       "FEMALE VOICE OVER SPEAKER      1\n",
       "FRIEND #1                      1\n",
       "FRIEND #2                      1\n",
       "THE END                        1\n",
       "MOM                            1\n",
       "ALIEN #5                       1\n",
       "SLINKY & REX                   1\n",
       "MIKE                           1\n",
       "LOCAL ANNOUNCER                1\n",
       "MALE VOICE OVER SPEAKER        1\n",
       "Name: Speaker, dtype: int64"
      ]
     },
     "execution_count": 21,
     "metadata": {},
     "output_type": "execute_result"
    }
   ],
   "source": [
    "toy_story_df.Speaker.value_counts()"
   ]
  },
  {
   "cell_type": "code",
   "execution_count": 22,
   "metadata": {
    "collapsed": false
   },
   "outputs": [
    {
     "data": {
      "text/plain": [
       "Sex\n",
       "Female     78\n",
       "Male      820\n",
       "dtype: int64"
      ]
     },
     "execution_count": 22,
     "metadata": {},
     "output_type": "execute_result"
    },
    {
     "data": {
      "image/png": "[encoded data removed]",
      "text/plain": [
       "<matplotlib.figure.Figure at 0x1190464a8>"
      ]
     },
     "metadata": {},
     "output_type": "display_data"
    }
   ],
   "source": [
    "def what_sex(speaker):\n",
    "    if speaker in [\"SID'S MOM\", 'MRS. DAVIS', 'HANNAH', 'BO PEEP']:\n",
    "        return 'Female'\n",
    "    return 'Male'\n",
    "\n",
    "toy_story_df['Sex'] = toy_story_df['Speaker'].apply(what_sex)\n",
    "\n",
    "sex_df = toy_story_df.groupby('Sex').size()\n",
    "sex_df.plot(kind='bar')\n",
    "sex_df\n"
   ]
  },
  {
   "cell_type": "code",
   "execution_count": 23,
   "metadata": {
    "collapsed": false
   },
   "outputs": [
    {
     "data": {
      "text/plain": [
       "Sex\n",
       "Female     509\n",
       "Male      6270\n",
       "Name: Word Count, dtype: int64"
      ]
     },
     "execution_count": 23,
     "metadata": {},
     "output_type": "execute_result"
    },
    {
     "data": {
      "image/png": "[encoded data removed]",
      "text/plain": [
       "<matplotlib.figure.Figure at 0x118759908>"
      ]
     },
     "metadata": {},
     "output_type": "display_data"
    }
   ],
   "source": [
    "def word_count(dialogue):\n",
    "    return len(dialogue.split())\n",
    "\n",
    "toy_story_df['Word Count'] = toy_story_df['Dialogue'].apply(word_count)\n",
    "\n",
    "word_df = toy_story_df.groupby('Sex')['Word Count'].sum()\n",
    "word_df.plot(kind='bar')\n",
    "word_df"
   ]
  }
 ],
 "metadata": {
  "kernelspec": {
   "display_name": "Python 3",
   "language": "python",
   "name": "python3"
  },
  "language_info": {
   "codemirror_mode": {
    "name": "ipython",
    "version": 3
   },
   "file_extension": ".py",
   "mimetype": "text/x-python",
   "name": "python",
   "nbconvert_exporter": "python",
   "pygments_lexer": "ipython3",
   "version": "3.6.0"
  }
 },
 "nbformat": 4,
 "nbformat_minor": 0
}
