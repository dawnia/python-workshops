{
 "cells": [
  {
   "cell_type": "markdown",
   "metadata": {},
   "source": [
    "# CalNERDS Introductory Python Bootcamp\n",
    "\n",
    "## Welcome!"
   ]
  },
  {
   "cell_type": "markdown",
   "metadata": {
    "collapsed": true
   },
   "source": [
    "## Running code in Jupyter Notebook\n",
    "\n",
    "Jupyter notebook breaks up code and text into cells. The text you're reading now is inside a cell, and the cell below it contains code. Here's some more guidance on running notebooks: https://jupyter-notebook-beginner-guide.readthedocs.io/en/latest/execute.html Note that we're using Python 3.\n",
    "\n",
    "To run a cell, click it and press Shift-Enter. Once a cell runs, <code>In[ ]</code> (to its left) will be numbered, your code will be saved in the notebook, and its output will appear below. While the code is running, <code>In[ ]</code> will look like <code>In[*]</code>.\n",
    "\n",
    "To test out your own code, you can create a new cell using the **+** in the upper left corner below \"File.\"\n",
    "\n",
    "The function <code>print()</code> displays whatever's inside it as text. Let's say hello!"
   ]
  },
  {
   "cell_type": "markdown",
   "metadata": {},
   "source": [
    "Congratulations! You are now a Python programmer."
   ]
  },
  {
   "cell_type": "markdown",
   "metadata": {},
   "source": [
    "## Variables and Data Types \n",
    "\n",
    "Notice that 'Hello world!' is surrounded by quotes. That means it's a **string**, which is text made up of characters. In Python we can represent strings with either double quotes \" \" or single quotes ' '—it doesn't matter which.\n",
    "\n",
    "Let's store 'Hello world!' by assigning it to the variable we call hi. Now hi's value is the string \"Hello world!\"."
   ]
  },
  {
   "cell_type": "code",
   "execution_count": null,
   "metadata": {},
   "outputs": [],
   "source": [
    "hi = 'Hello world!'"
   ]
  },
  {
   "cell_type": "markdown",
   "metadata": {},
   "source": [
    "To see the value of hi, we can print it:"
   ]
  },
  {
   "cell_type": "code",
   "execution_count": null,
   "metadata": {},
   "outputs": [],
   "source": [
    "print(hi)"
   ]
  },
  {
   "cell_type": "markdown",
   "metadata": {},
   "source": [
    "There are many built-in methods in Python for strings. These methods are blocks of code specifically written to use with strings, and we access them using dot notation. This just means we do this:\n",
    "\n",
    "<code>variableName.methodName()</code>\n",
    "\n",
    "The parentheses take in arguments, if available. If we want to call the predefined method <code>lower()</code> on a string, we use dot notation like so:"
   ]
  },
  {
   "cell_type": "code",
   "execution_count": null,
   "metadata": {},
   "outputs": [],
   "source": [
    "hi.lower()"
   ]
  },
  {
   "cell_type": "markdown",
   "metadata": {},
   "source": [
    "*Note on Jupyter Notebook:* Here our text has quotes around it, and it's displayed in a cell marked <code>Out</code>. Jupyter notebook displays the result of any standalone expression on the last line in an output cell, which is different than what the function <code>print()</code> does (display text). Don't dwell on this too much, but note that you may have to print code on previous lines within a cell if you want to see its value, as shown in the next cell.\n",
    "\n",
    "Methods doesn't necessarily change the value of the variables themselves. To modify hi, we have use the assignment operator, =, as shown below:"
   ]
  },
  {
   "cell_type": "code",
   "execution_count": null,
   "metadata": {},
   "outputs": [],
   "source": [
    "print(hi)\n",
    "hi = hi.lower()\n",
    "print(hi)"
   ]
  },
  {
   "cell_type": "markdown",
   "metadata": {},
   "source": [
    "Some methods take in arguments inside their parentheses, like <code>replace()</code>:"
   ]
  },
  {
   "cell_type": "code",
   "execution_count": null,
   "metadata": {},
   "outputs": [],
   "source": [
    "hi.replace('world', 'from the other side')"
   ]
  },
  {
   "cell_type": "markdown",
   "metadata": {},
   "source": [
    "What does the method above do? \n",
    "\n",
    "### Mini-Exercise\n",
    "\n",
    "In two lines in the code cell below, make a new variable with a string as its value in this format: 'My name is *name*, and I go to UC Berkeley. I loooove Berkeley.' Then use <code>replace()</code> to replace all occurrences of 'Berkeley' with 'Broccoli'."
   ]
  },
  {
   "cell_type": "code",
   "execution_count": null,
   "metadata": {
    "collapsed": true
   },
   "outputs": [],
   "source": []
  },
  {
   "cell_type": "markdown",
   "metadata": {},
   "source": [
    "We'll soon learn about four more data types: numbers, lists, tuples, and booleans. Some very useful data types we won't discuss are sets and dictionaries, which you can learn about in our Advanced Python Workshop!"
   ]
  },
  {
   "cell_type": "markdown",
   "metadata": {},
   "source": [
    "## Python as a Calculator\n",
    "\n",
    "Let's do some math! Below are a bunch of mathematical operations. Some are quite obvious, whereas others are not so obvious. Run each one and talk through what they do with the people around you.\n",
    "\n",
    "Note the text after the hashtags. This is how you write a comment in your code in Python!"
   ]
  },
  {
   "cell_type": "code",
   "execution_count": null,
   "metadata": {},
   "outputs": [],
   "source": [
    "9.5+.5"
   ]
  },
  {
   "cell_type": "code",
   "execution_count": null,
   "metadata": {},
   "outputs": [],
   "source": [
    "10-11"
   ]
  },
  {
   "cell_type": "code",
   "execution_count": null,
   "metadata": {},
   "outputs": [],
   "source": [
    "3*2"
   ]
  },
  {
   "cell_type": "code",
   "execution_count": null,
   "metadata": {},
   "outputs": [],
   "source": [
    "3**2"
   ]
  },
  {
   "cell_type": "code",
   "execution_count": null,
   "metadata": {},
   "outputs": [],
   "source": [
    "pow(3,2)"
   ]
  },
  {
   "cell_type": "code",
   "execution_count": null,
   "metadata": {},
   "outputs": [],
   "source": [
    "22/4"
   ]
  },
  {
   "cell_type": "code",
   "execution_count": null,
   "metadata": {},
   "outputs": [],
   "source": [
    "22//4   # what could this be doing?"
   ]
  },
  {
   "cell_type": "code",
   "execution_count": null,
   "metadata": {},
   "outputs": [],
   "source": [
    "22%4    # how about this?"
   ]
  },
  {
   "cell_type": "markdown",
   "metadata": {},
   "source": [
    "Some notes:\n",
    "- In Python 3, there's no distinction between integers and decimals or fractions.\n",
    "- Both x\\*\\*y and the function <code>pow(x,y)</code> take x to the power of y. \n",
    "- x//y cuts off the remainder of the division.\n",
    "- x%y is modulo, which gives the remainder of the division. This is commonly used to tell if a number if even or odd. If it's even, it should be divisible by 2, so x%2 would equal 0.\n",
    "\n",
    "Numbers are just another data type, and we can save them to variables too:"
   ]
  },
  {
   "cell_type": "code",
   "execution_count": null,
   "metadata": {},
   "outputs": [],
   "source": [
    "mass = 96.6\n",
    "volume = 5\n",
    "goldDensity = mass/volume\n",
    "print(goldDensity)"
   ]
  },
  {
   "cell_type": "markdown",
   "metadata": {},
   "source": [
    "This is important: Python performs any computations on the right-hand side of an assignment (=) before it assigns the variable name on the left."
   ]
  },
  {
   "cell_type": "code",
   "execution_count": null,
   "metadata": {},
   "outputs": [],
   "source": [
    "myAge = 21\n",
    "americaAge = 241\n",
    "result = americaAge - myAge   # subtraction is done first\n",
    "print(result)"
   ]
  },
  {
   "cell_type": "markdown",
   "metadata": {},
   "source": [
    "## Lists\n",
    "\n",
    "Variables with a single string or number are useful, but what if we want to group a bunch of values together? We'll need a list, which is probably the most versatile datatype in Python. A list is a sequence of objects in square brackets."
   ]
  },
  {
   "cell_type": "code",
   "execution_count": null,
   "metadata": {
    "collapsed": true
   },
   "outputs": [],
   "source": [
    "newList = []    # empty list"
   ]
  },
  {
   "cell_type": "markdown",
   "metadata": {},
   "source": [
    "Lists have a set order. Each element in a list has an index, starting with 0. So a list n elements long would have elements from left to right with indices 0, 1, 2, ... , n-1. \n",
    "\n",
    "We access the value of an element at its index i using this notation: <code>listName[index]</code>, shown below:"
   ]
  },
  {
   "cell_type": "code",
   "execution_count": null,
   "metadata": {},
   "outputs": [],
   "source": [
    "prob = [92, 43, 36, 83, 47]\n",
    "print(prob[0])\n",
    "print(prob[2])"
   ]
  },
  {
   "cell_type": "markdown",
   "metadata": {},
   "source": [
    "We can reassign a value at an index using the same notation. Here we change the value at index 1, which is 43, to the string 'zoop'."
   ]
  },
  {
   "cell_type": "code",
   "execution_count": null,
   "metadata": {},
   "outputs": [],
   "source": [
    "prob[1] = 'zoop'\n",
    "print(prob)"
   ]
  },
  {
   "cell_type": "markdown",
   "metadata": {},
   "source": [
    "### Mini-Exercise\n",
    "\n",
    "In the cell below, change the last item in the list prob to be the favorite restaurant in Berkeley of one of the people sitting near you. Then print that last item from the list."
   ]
  },
  {
   "cell_type": "code",
   "execution_count": null,
   "metadata": {
    "collapsed": true
   },
   "outputs": [],
   "source": []
  },
  {
   "cell_type": "markdown",
   "metadata": {},
   "source": [
    "Tangent: Strings also have indices for each character! To get the first character in our hi variable:"
   ]
  },
  {
   "cell_type": "code",
   "execution_count": null,
   "metadata": {},
   "outputs": [],
   "source": [
    "print(hi)\n",
    "print(hi[0])"
   ]
  },
  {
   "cell_type": "markdown",
   "metadata": {},
   "source": [
    "Continuing off of that, to get the last character in a string, we can use the <code>len()</code> method with syntax <code>len(stringName)</code>. Let's do this with the word 'grail'."
   ]
  },
  {
   "cell_type": "code",
   "execution_count": null,
   "metadata": {},
   "outputs": [],
   "source": [
    "grail = 'grail'\n",
    "print('Word length:', len(grail))   # print a string followed by the value of grailLength\n",
    "\n",
    "lastLetter = grail[len(grail) - 1]   # get the last character in grail\n",
    "print('Last letter in word:', lastLetter)"
   ]
  },
  {
   "cell_type": "markdown",
   "metadata": {},
   "source": [
    "As we expected, the last letter is an 'l'. (Not a 1! It's easy to get the lowercase L and the number 1 mixed up when coding.) In the code cell below, try to get the character in grail at the index <code>len(grail)</code>."
   ]
  },
  {
   "cell_type": "code",
   "execution_count": null,
   "metadata": {},
   "outputs": [],
   "source": []
  },
  {
   "cell_type": "markdown",
   "metadata": {},
   "source": [
    "What is Python telling you? Note the kind of error, the location in the code where the error occured, and the error message."
   ]
  },
  {
   "cell_type": "markdown",
   "metadata": {},
   "source": [
    "Back to lists!\n",
    "\n",
    "A list can contain different kinds of datatypes. This list contains a string, a number, another list, and None, which is a predefined constant representing the absence of value."
   ]
  },
  {
   "cell_type": "code",
   "execution_count": null,
   "metadata": {
    "collapsed": true
   },
   "outputs": [],
   "source": [
    "meaning = ['love', 42, ['eat', 'sleep', 'read'], None]"
   ]
  },
  {
   "cell_type": "markdown",
   "metadata": {},
   "source": [
    "Here are several ways to add items to a list. \n",
    "\n",
    "<code>append()</code> and <code>insert()</code> are predefined methods of lists. To learn more, here's the documentation on list methods: https://docs.python.org/3/tutorial/datastructures.html"
   ]
  },
  {
   "cell_type": "code",
   "execution_count": null,
   "metadata": {},
   "outputs": [],
   "source": [
    "meaning.append('survival')\n",
    "print(meaning)"
   ]
  },
  {
   "cell_type": "code",
   "execution_count": null,
   "metadata": {},
   "outputs": [],
   "source": [
    "meaning.insert(1, 'end suffering')   # insert the second argument into the index given in the first argument\n",
    "print(meaning)"
   ]
  },
  {
   "cell_type": "markdown",
   "metadata": {},
   "source": [
    "### Mini-Exercise\n",
    "\n",
    "In the cell below, use <code>insert()</code> to add your own \"meaning\" into an index of your choice in the list meaning, then print the list."
   ]
  },
  {
   "cell_type": "code",
   "execution_count": null,
   "metadata": {
    "collapsed": true
   },
   "outputs": [],
   "source": []
  },
  {
   "cell_type": "code",
   "execution_count": null,
   "metadata": {},
   "outputs": [],
   "source": [
    "meaning = meaning + ['service']    # add another list using the + operator\n",
    "print(meaning)"
   ]
  },
  {
   "cell_type": "markdown",
   "metadata": {},
   "source": [
    "What happens when you remove the brackets around 'service' above? Try adding just the string 'service' to meaning using the + operator."
   ]
  },
  {
   "cell_type": "code",
   "execution_count": null,
   "metadata": {},
   "outputs": [],
   "source": []
  },
  {
   "cell_type": "markdown",
   "metadata": {},
   "source": [
    "Again, what is Python telling you? If you're not sure why an error is occurring, one of your first resources is the documentation (linked above for lists)."
   ]
  },
  {
   "cell_type": "markdown",
   "metadata": {},
   "source": [
    "One important property of lists: If we set a new variable equal to the original list, and then change the new variable, the original list is also changed. This is important to keep in mind when copying and manipulating lists.\n",
    "\n",
    "This site is extremely helpful for visualizing how Python works under the hood! http://www.pythontutor.com/visualize.html "
   ]
  },
  {
   "cell_type": "code",
   "execution_count": null,
   "metadata": {},
   "outputs": [],
   "source": [
    "a = [1,2,3]\n",
    "b = a\n",
    "b.append(4)\n",
    "print(a)"
   ]
  },
  {
   "cell_type": "markdown",
   "metadata": {},
   "source": [
    "Here are two ways to copy a list that doesn't point to the original list:"
   ]
  },
  {
   "cell_type": "code",
   "execution_count": null,
   "metadata": {
    "collapsed": true
   },
   "outputs": [],
   "source": [
    "a = [1,2,3]\n",
    "copy1 = list(a)   # use built-in list function\n",
    "copy2 = a[:]"
   ]
  },
  {
   "cell_type": "markdown",
   "metadata": {},
   "source": [
    "The brackets used in making copy2 are the same operator that we used to index into lists and strings. It's called a slice, and it can take in different arguments. If there's only one argument, that represents one index. There can also be two arguments, separated by a colon like so: \n",
    "\n",
    "<code>someList[start:end]</code>\n",
    "\n",
    "If we slice a list from start to stop, we get the part of the list from the index start **up to but not including** the index stop. The arguments start, end, or both (as in copy2) are optional. \n",
    "\n",
    "Guess what the cells below will output before you run them!"
   ]
  },
  {
   "cell_type": "code",
   "execution_count": null,
   "metadata": {
    "collapsed": true
   },
   "outputs": [],
   "source": [
    "veggies = ['endive', 'chard', 'beet', 'bok choy', 'arugula']"
   ]
  },
  {
   "cell_type": "code",
   "execution_count": null,
   "metadata": {},
   "outputs": [],
   "source": [
    "len(veggies)"
   ]
  },
  {
   "cell_type": "code",
   "execution_count": null,
   "metadata": {},
   "outputs": [],
   "source": [
    "veggies[2:5]   # from index 2 up to but not including index 5"
   ]
  },
  {
   "cell_type": "code",
   "execution_count": null,
   "metadata": {},
   "outputs": [],
   "source": [
    "veggies[2:]    # no end argument implicitly means the length of the list"
   ]
  },
  {
   "cell_type": "code",
   "execution_count": null,
   "metadata": {},
   "outputs": [],
   "source": [
    "veggies[:4]   # no start argument implicitly means index 0"
   ]
  },
  {
   "cell_type": "code",
   "execution_count": null,
   "metadata": {},
   "outputs": [],
   "source": [
    "veggies[:]"
   ]
  },
  {
   "cell_type": "markdown",
   "metadata": {},
   "source": [
    "Surprise, slice takes a third optional argument! \n",
    "\n",
    "<code>someList[start:end:step]</code>"
   ]
  },
  {
   "cell_type": "code",
   "execution_count": null,
   "metadata": {},
   "outputs": [],
   "source": [
    "veggies[::2]    # from start to end, skipping every second value"
   ]
  },
  {
   "cell_type": "markdown",
   "metadata": {},
   "source": [
    "One more thing to mention on this topic: Passing in a negative index indexes from right to left in the list, where the last element's index is -1."
   ]
  },
  {
   "cell_type": "code",
   "execution_count": null,
   "metadata": {},
   "outputs": [],
   "source": [
    "veggies[-2]"
   ]
  },
  {
   "cell_type": "markdown",
   "metadata": {},
   "source": [
    "Finally, here are the most common ways to remove an item from a list:"
   ]
  },
  {
   "cell_type": "code",
   "execution_count": null,
   "metadata": {},
   "outputs": [],
   "source": [
    "letters = ['x', 'b', 'c', 'x', 'd', 'e']\n",
    "letters.remove('x')   # removes the first instance of 'x'\n",
    "print(letters)"
   ]
  },
  {
   "cell_type": "markdown",
   "metadata": {},
   "source": [
    "The method <code>pop()</code> removes **and returns** the last item in a list. If you pass in an argument, <code>pop(index)</code> removes the item at that index."
   ]
  },
  {
   "cell_type": "code",
   "execution_count": null,
   "metadata": {},
   "outputs": [],
   "source": [
    "last = letters.pop()\n",
    "print(letters)\n",
    "print('Removed:', last)\n",
    "\n",
    "letters.pop(1)\n",
    "print(letters)"
   ]
  },
  {
   "cell_type": "markdown",
   "metadata": {},
   "source": [
    "And a brief overview of tuples. Tuples are almost exactly like lists, except they use parentheses instead of brackets and are immutable. This means that you can't modify (add, change, remove) values in a tuple.\n",
    "\n",
    "Why could this be useful? One reason is that we don't always want the option to mutate our data. For example, tuples are a good data type for storing coordinates recorded from something like an accelerometer. Unlike lists, tuples can be used as keys in dictionaries—again, something you can learn about in the Advanced Workshop."
   ]
  },
  {
   "cell_type": "code",
   "execution_count": null,
   "metadata": {},
   "outputs": [],
   "source": [
    "coords = (5.6, 3.0, 7.5)   # a tuple\n",
    "coords[1]"
   ]
  },
  {
   "cell_type": "code",
   "execution_count": null,
   "metadata": {},
   "outputs": [],
   "source": [
    "coords[1] = 3.1"
   ]
  },
  {
   "cell_type": "markdown",
   "metadata": {},
   "source": [
    "What's Python telling you?"
   ]
  },
  {
   "cell_type": "markdown",
   "metadata": {},
   "source": [
    "# Break \n",
    "\n",
    "![bear](https://raw.githubusercontent.com/dawnia/python-workshops/master/bear.png)"
   ]
  },
  {
   "cell_type": "markdown",
   "metadata": {},
   "source": [
    "## Importing Libraries \n",
    "\n",
    "While Python itself comes with a suite of wonderful capabilities, its true power comes in the sheer number of available packages we can import. A package is a directory of modules, which are .py files defining functions and classes. Basically, a collection of very useful pre-written code. You don't have to reinvent the wheel. \n",
    "\n",
    "Two of the most important packages we will be using are the numpy and matplotlib.pyplot packages. At the beginning of any file that you're writing which requires plotting numerical functions (cosine, sine, gaussians, etc.), you may want to include the two lines of code importing these packages. Numpy is useful for scientific computing, and matplotlib is useful for plotting."
   ]
  },
  {
   "cell_type": "code",
   "execution_count": null,
   "metadata": {
    "collapsed": true
   },
   "outputs": [],
   "source": [
    "import numpy as np\n",
    "import matplotlib.pyplot as plt"
   ]
  },
  {
   "cell_type": "markdown",
   "metadata": {},
   "source": [
    "## Numpy Arrays\n",
    "Though lists are quite useful, numpy arrays are quite a bit more powerful for working with numpy functions and for doing math on them at large. They are very similar to lists in that they are indexed the same way, but they do have different functionality, and they must contain items all of the same type.\n",
    "\n",
    "Here's the documentation for future reference: https://docs.scipy.org/doc/numpy-1.13.0/reference/arrays.ndarray.html"
   ]
  },
  {
   "cell_type": "code",
   "execution_count": null,
   "metadata": {
    "collapsed": true
   },
   "outputs": [],
   "source": [
    "x_list = [0,4,3,2,16,12,14]\n",
    "x_arr = np.array([0,4,3,2,16,12,14])    # syntax for initializing a numpy array"
   ]
  },
  {
   "cell_type": "markdown",
   "metadata": {},
   "source": [
    "You might think, so what? Let's multiply each by 3 and see what happens."
   ]
  },
  {
   "cell_type": "code",
   "execution_count": null,
   "metadata": {
    "scrolled": true
   },
   "outputs": [],
   "source": [
    "x_arr = x_arr * 3 \n",
    "print(x_arr)"
   ]
  },
  {
   "cell_type": "code",
   "execution_count": null,
   "metadata": {},
   "outputs": [],
   "source": [
    "x_list = x_list * 3 \n",
    "print(x_list) "
   ]
  },
  {
   "cell_type": "markdown",
   "metadata": {},
   "source": [
    "The functionality of a numpy array is more practical, especially for manipulating data and doing math/statistics. They also often run faster than lists. Whether you're storing time values from an experiment or simulation, recording signals from a device, or tracking pixels of an image, a numpy array is preferable to a regular Python list.\n",
    "\n",
    "If you're wondering, here's one way of doing the above with a regular list using a for-loop. We'll learn about for-loops later in the workshop, but try to roughly walk through its syntax now."
   ]
  },
  {
   "cell_type": "code",
   "execution_count": null,
   "metadata": {},
   "outputs": [],
   "source": [
    "original_list = [0,4,3,2,16,12,14,5]\n",
    "\n",
    "listTimes3 = []    # make empty list\n",
    "for item in original_list:\n",
    "    listTimes3.append(item * 3)    # put each element from original list * 3 into new list\n",
    "    \n",
    "print(listTimes3)"
   ]
  },
  {
   "cell_type": "markdown",
   "metadata": {},
   "source": [
    "We can also do this with something super handy called a list comprehension, which you will practice in the Advanced Workshop."
   ]
  },
  {
   "cell_type": "code",
   "execution_count": null,
   "metadata": {},
   "outputs": [],
   "source": [
    "list2Times3 = [item * 3 for item in original_list]\n",
    "print(list2Times3)"
   ]
  },
  {
   "cell_type": "markdown",
   "metadata": {},
   "source": [
    "## Plotting with matplotlib"
   ]
  },
  {
   "cell_type": "code",
   "execution_count": null,
   "metadata": {},
   "outputs": [],
   "source": [
    "plt.plot([1,2,3,4])\n",
    "plt.ylabel('some numbers')\n",
    "plt.show()"
   ]
  },
  {
   "cell_type": "markdown",
   "metadata": {},
   "source": [
    "You may be wondering why the x-axis ranges from 0-3 and the y-axis from 1-4. If you provide a single list or array to the plot() command, matplotlib assumes it is a sequence of y values, and automatically generates the x values for you. Since python ranges start with 0, the default x vector has the same length as y but starts with 0. Hence the x data are [0,1,2,3].\n",
    "\n",
    "<code>plot()</code> is a versatile command, and will take an arbitrary number of arguments. For example, to plot x versus y, you can issue the command:\n",
    "\n",
    "<code>plt.plot([1, 2, 3, 4], [1, 4, 9, 16])</code>\n",
    "\n",
    "See the <code>plot()</code> documentation for a complete list of line styles and format strings. The <code>axis()</code> command in the example below takes a list of </code>[xmin, xmax, ymin, ymax]</code> and specifies more information about the axes.\n",
    "\n",
    "<code>plot()</code> documentation: https://matplotlib.org/api/pyplot_api.html#matplotlib.pyplot.plot\n",
    "\n",
    "For every x, y pair of arguments, there is an optional third argument which is the format string that indicates the color and line type of the plot. The letters and symbols of the format string are from MATLAB, and you concatenate a color string with a line style string. The default format string is ‘b-‘, which is a solid blue line. For example, to plot the above with red circles, you would issue:"
   ]
  },
  {
   "cell_type": "code",
   "execution_count": null,
   "metadata": {},
   "outputs": [],
   "source": [
    "plt.plot([1,2,3,4], [1,4,9,16], 'ro')\n",
    "plt.axis([0, 6, 0, 20])\n",
    "plt.show()"
   ]
  },
  {
   "cell_type": "markdown",
   "metadata": {},
   "source": [
    "If not used with labeled data (i.e., without a data argument), an arbitrary number of x, y, fmt groups can be specified, as in:\n",
    "\n",
    "<code>a.plot(x1, y1, 'g^', x2, y2, 'g-')</code>\n",
    "\n",
    "If matplotlib were limited to working with lists, it would be fairly useless for numeric processing. Generally, you will use numpy arrays. In fact, all sequences are converted to numpy arrays internally. The example below illustrates a plotting several lines with different format styles in one command using arrays.\n",
    "\n",
    "<code>np.arange()</code> creates a numpy array of evenly spaced values from start to stop at step intervals if given. Always google the documentation if you need more info! https://docs.scipy.org/doc/numpy/reference/generated/numpy.arange.html"
   ]
  },
  {
   "cell_type": "code",
   "execution_count": null,
   "metadata": {},
   "outputs": [],
   "source": [
    "zoop = np.arange(0., 5., 0.2)\n",
    "\n",
    "# red dashes, blue squares, and green triangles\n",
    "plt.plot(zoop, zoop, 'r--', zoop, zoop**2, 'bs', zoop, zoop**3, 'g^')\n",
    "plt.show()"
   ]
  },
  {
   "cell_type": "markdown",
   "metadata": {},
   "source": [
    "### Mini-Exercise\n",
    "\n",
    "In the above code, try adding a fourth function to the <code>plt.plot()</code> line.\n",
    "\n",
    "Here we write a function called squiggle, which just gives an equation. We use <code>np.arange()</code> to create a vector containing values from 0 to 5 spaced at intervals of 0.1. We set up the plot and then plot the equation defined in squiggle. Below that, we use the same values to  a cosine function."
   ]
  },
  {
   "cell_type": "code",
   "execution_count": null,
   "metadata": {},
   "outputs": [],
   "source": [
    "def squiggle(x):    # define our function!\n",
    "    return np.exp(-x) * np.cos(2*np.pi*x)\n",
    "\n",
    "values = np.arange(0, 5, 0.1)   \n",
    "plt.plot(values, squiggle(values), 'bo', values, squiggle(values), 'm')  # 'bo' = blue circle, 'm' = magenta\n",
    "plt.show()"
   ]
  },
  {
   "cell_type": "code",
   "execution_count": null,
   "metadata": {},
   "outputs": [],
   "source": [
    "plt.plot(values, np.cos(2 * np.pi * values), 'r--')   # plotting some cosine function using values\n",
    "plt.show()"
   ]
  },
  {
   "cell_type": "markdown",
   "metadata": {},
   "source": [
    "Take a minute to explore the matplotlib gallery!\n",
    "https://matplotlib.org/gallery.html"
   ]
  },
  {
   "cell_type": "markdown",
   "metadata": {},
   "source": [
    "## Functions "
   ]
  },
  {
   "cell_type": "markdown",
   "metadata": {},
   "source": [
    "Being able to define our own functions is useful and necessary for writing programs. Functions are a backbone of programming! It is good practice to functionalize programs so that we can repeat the same calculations over and over with some variable parameter. \n",
    "\n",
    "A function looks like this:"
   ]
  },
  {
   "cell_type": "code",
   "execution_count": null,
   "metadata": {},
   "outputs": [],
   "source": [
    "def square(y):\n",
    "    z = y * y\n",
    "    return z\n",
    "\n",
    "result = square(5)   # function call\n",
    "print(result)"
   ]
  },
  {
   "cell_type": "markdown",
   "metadata": {},
   "source": [
    "<code>def</code> tells us that we're defining a function. \n",
    "\n",
    "The function takes in optional parameters, in this case one with the variable name y. Whetever values we pass into the function call get assigned to this parameter. (Note: Variables defined in parameters and inside of function blocks are ONLY defined in the context of the function. We cannot access them outside of the function's environment. Try to print y or z outside of the function and see what happens.)\n",
    "\n",
    "Functions can return values. Here we return z, which gets passed back to the original function call and is set to <code>result</code>.\n",
    "\n",
    "The following rules are true for not only def statements, but also if/else/elif statements and for- and while-loops:\n",
    "\n",
    "- The colon (:) is required. It separates the header of the statement from the body.\n",
    "- The body following the header and colon must be indented. It is standard in Python to use tab to indent."
   ]
  },
  {
   "cell_type": "markdown",
   "metadata": {},
   "source": [
    "### Some examples\n",
    "\n",
    "Functions can call other functions! The process of breaking a problem into smaller subproblems is one of the building block ideas of computer science.\n",
    "\n",
    "Here’s an example using two functions, square and sum_of_squares. The first function called square, defined above, simply computes the square of a given number. The second function called sum_of_squares makes use of square to compute the sum of three numbers that have been squared."
   ]
  },
  {
   "cell_type": "code",
   "execution_count": null,
   "metadata": {},
   "outputs": [],
   "source": [
    "def sum_of_squares(x, y, z):\n",
    "    a = square(x)    \n",
    "    b = square(y)\n",
    "    c = square(z)\n",
    "    return a + b + c\n",
    "\n",
    "result = sum_of_squares(2, -3, 0)\n",
    "print(result)"
   ]
  },
  {
   "cell_type": "markdown",
   "metadata": {},
   "source": [
    "### Mini-Exercise\n",
    "\n"
   ]
  },
  {
   "cell_type": "markdown",
   "metadata": {},
   "source": [
    "- In the cell below, define a function that takes in two variables representing lists. You can name these (nearly) anything you'd like.\n",
    "- Within the function, return the result of combining the two lists.\n",
    "- For example, if we passed in [1,2,3] and [4,5,6], the function would return [1,2,3,4,5,6].\n",
    "- Call the function, passing in any two lists.\n",
    "- Print the output."
   ]
  },
  {
   "cell_type": "code",
   "execution_count": null,
   "metadata": {},
   "outputs": [],
   "source": []
  },
  {
   "cell_type": "markdown",
   "metadata": {},
   "source": [
    "## Conditionals \n",
    "\n",
    "Computers are nice because they can perform a bunch of calculations in a short amount of time. But with what we have now, we aren't much better off than if we had just stuck to a scientific calculator. With conditionals and loops, we can expand our capabilities.\n",
    "\n",
    "Conditionals boil down to the **boolean** datatype, which can take one of two values: <code>True</code> or <code>False</code>. Conditional statements check whether a variable or expression is True or False. It performs these checks by using conditional operators (skim, don't study this list):\n",
    "\n",
    "- A == B: True if A equals B \n",
    "- A != B: True if A is not equal to B\n",
    "- A > B: True if A is greater than B. Same syntax for less than <\n",
    "- A >= B: True if A is greater than or equal to B. Same syntax for less than or equal <=\n",
    "- A in B: True if an element A is in some list, tuple, numpy array, ...\n",
    "- A not in B: True if an element A is not in some list, tuple, numpy array, ...\n",
    "- A and B: True if both A and B are True\n",
    "- A or B: True if either A or B is True (one can be False)\n",
    "\n",
    "Guess what these examples will output."
   ]
  },
  {
   "cell_type": "code",
   "execution_count": null,
   "metadata": {},
   "outputs": [],
   "source": [
    "val = 105\n",
    "if val > 100:\n",
    "    print('greater than 100')"
   ]
  },
  {
   "cell_type": "code",
   "execution_count": null,
   "metadata": {},
   "outputs": [],
   "source": [
    "fruit1 = 'guava'\n",
    "fruit2 = 'passionfruit'\n",
    "\n",
    "if fruit1 != fruit2:\n",
    "    print('I love all fruit')"
   ]
  },
  {
   "cell_type": "code",
   "execution_count": null,
   "metadata": {
    "collapsed": true
   },
   "outputs": [],
   "source": [
    "music = ['Noname', 'Grimes', 'Princess Nokia', 'Lauryn Hill', 'Mitski']\n",
    "count = 0\n",
    "\n",
    "if 'Lauryn Hill' in music:\n",
    "    count += 1   # count is now 1\n",
    "if count == 2:\n",
    "    print('a ok')"
   ]
  },
  {
   "cell_type": "markdown",
   "metadata": {},
   "source": [
    "You see that the general format is \n",
    "\n",
    "<code>if *conditional statement*\n",
    "    *execute if statement was true*</code>\n",
    "\n",
    "The key is that **the value of the conditional statement is a boolean**. Each of these statements evaluates to either <code>True</code> or <code>False</code>:\n",
    "- <code>val > 100</code>\n",
    "- <code>fruit1 != fruit2</code>\n",
    "- <code>'Lauryn Hill' in music</code>"
   ]
  },
  {
   "cell_type": "markdown",
   "metadata": {},
   "source": [
    "In addition to if statements, Python also has else and elif statements. Python checks an else statement only if the the conditional above it is false."
   ]
  },
  {
   "cell_type": "code",
   "execution_count": null,
   "metadata": {},
   "outputs": [],
   "source": [
    "if 2 + 2 == 5:    # evaluates to False\n",
    "    print('nah')\n",
    "else:\n",
    "    print('yup')"
   ]
  },
  {
   "cell_type": "markdown",
   "metadata": {},
   "source": [
    "What if we have more than two possible logic branches? Elif is short for \"else if\" and lets us check another condition if the conditional above it is false. In the below example, the else statement doesn't run because the condition in elif was true."
   ]
  },
  {
   "cell_type": "code",
   "execution_count": null,
   "metadata": {},
   "outputs": [],
   "source": [
    "if 2 + 2 == 5:    # evaluates to False\n",
    "    print('nah')\n",
    "elif 2 + 2 == 5 or 3 + 3 == 6: \n",
    "    print('mhm')\n",
    "else: \n",
    "    print('?')"
   ]
  },
  {
   "cell_type": "markdown",
   "metadata": {},
   "source": [
    "### Mini-Exercise\n",
    "\n",
    "1. Create a variable x and set its value to 5.\n",
    "2. Write an if statement checking if x is even. (Hint: Use % from the Python as a Calculator section.)\n",
    "3. If x is even, print \"x is even\".\n",
    "4. Write an else statement that prints \"x is odd\" otherwise."
   ]
  },
  {
   "cell_type": "code",
   "execution_count": null,
   "metadata": {
    "collapsed": true
   },
   "outputs": [],
   "source": []
  },
  {
   "cell_type": "markdown",
   "metadata": {},
   "source": [
    "## Loops\n",
    "\n",
    "Let's motivate the concept of loops with an example. There is an important built-in function in Python that automatically generates a list. This is the <code>range()</code> function. \n",
    "\n",
    "It can take in one parameter, a start and a stop parameter, or start, stop, and step parameters, just like slicing. When called with one parameter as below, that number represents the number of values that range outputs.\n",
    "\n",
    "The for-loop format reads intuitively like natural language: \"For every *item* in the given *list of items*, *do whatever's indented in the block*.\""
   ]
  },
  {
   "cell_type": "code",
   "execution_count": null,
   "metadata": {},
   "outputs": [],
   "source": [
    "for item in range(5):   # outputs numbers from 0 to 4\n",
    "    print(item)"
   ]
  },
  {
   "cell_type": "markdown",
   "metadata": {},
   "source": [
    "The code inside the above for loop executes 5 times, each time with a different value set to item.\n",
    "\n",
    "You can call the variable name *item* anything! It just takes on the value of an item in whatever the loop is iterating through. What will the below code output?"
   ]
  },
  {
   "cell_type": "code",
   "execution_count": null,
   "metadata": {
    "scrolled": true
   },
   "outputs": [],
   "source": [
    "for dinosaur in range(7,11): \n",
    "    print(dinosaur)"
   ]
  },
  {
   "cell_type": "markdown",
   "metadata": {},
   "source": [
    "There are two main types of loops in Python: for loops and while loops. \n",
    "\n",
    "For loops iterate over a set number of values, usually given by list, string, range function, or other iterable data structure. Remember, the variable you define (above, item or dinosaur) represents the value of the item in the list/string/range, not its index."
   ]
  },
  {
   "cell_type": "code",
   "execution_count": null,
   "metadata": {},
   "outputs": [],
   "source": [
    "print(music)\n",
    "for cat in music:\n",
    "    print(cat)"
   ]
  },
  {
   "cell_type": "markdown",
   "metadata": {},
   "source": [
    "While loops iterate until a certain condition is no longer true. Use a for loop if you know the number of times you'll need to execute the body (ex. \"Traverse this list,\" \"Check the first 1000 integers\"), and use a while loop if you need to repeat the body for an indefinite amount of time until a condition is met.\n",
    "\n",
    "The below while loop exits when temp is no longer >= 12."
   ]
  },
  {
   "cell_type": "code",
   "execution_count": null,
   "metadata": {},
   "outputs": [],
   "source": [
    "temp = 115  \n",
    "print('Cooling...')\n",
    "while temp >= 112: \n",
    "    print(temp)\n",
    "    temp -= 1       # short for temp = temp - 1\n",
    "print('The tea is cool enough.')"
   ]
  },
  {
   "cell_type": "markdown",
   "metadata": {},
   "source": [
    "#### Looping with enumerate\n",
    "\n",
    "For loops in Python don't loop over indices; they loop over the items themselves. But what if we need indices? Sometimes we want both the values of a list and their indices.\n",
    "\n",
    "Say we want to print out presidential names along with their numbers. We could use range(len(presidents) to get a list of indices from 0 to length-1, but there's a better way. Python’s built-in enumerate method allows us to loop over a list and retrieve both the index and the value of each item in the list:"
   ]
  },
  {
   "cell_type": "code",
   "execution_count": null,
   "metadata": {
    "collapsed": true
   },
   "outputs": [],
   "source": [
    "presidents = [\"Washington\", \"Adams\", \"Jefferson\", \"Madison\", \"Monroe\", \"Adams\", \"Jackson\"]\n",
    "for num, name in enumerate(presidents, start=1):\n",
    "    print(\"President\", num, \"is\", name)"
   ]
  },
  {
   "cell_type": "markdown",
   "metadata": {},
   "source": [
    "As you can see, enumerate takes in an iterable (something you can loop through, like a list or string) and an optional starting index. By default, start = 0.\n",
    "\n",
    "Bonus: Using Python's format method, where we can index the brackets to define our own ordering:"
   ]
  },
  {
   "cell_type": "code",
   "execution_count": null,
   "metadata": {
    "collapsed": true
   },
   "outputs": [],
   "source": [
    "for num, name in enumerate(presidents, start=1):\n",
    "    print(\"President {1} is president {0}\".format(num, name))"
   ]
  },
  {
   "cell_type": "markdown",
   "metadata": {},
   "source": [
    "### Exercise: If this not that\n",
    "\n",
    "Test your knowledge of lists, iteration, and conditionals!\n",
    "\n",
    "Define a function which takes a list of integers 'i_list' and an integer 'this'. For each element in 'i_list', print the element if it is larger than 'this'; otherwise, print the word \"that\". Aim to pass the tests!"
   ]
  },
  {
   "cell_type": "code",
   "execution_count": null,
   "metadata": {
    "collapsed": true
   },
   "outputs": [],
   "source": [
    "def if_this_not_that(INSERT ARGUMENTS HERE):\n",
    "\n",
    "            \n",
    "#should print (on separate lines): that that that 4 5\n",
    "original_list = [1, 2, 3, 4, 5]\n",
    "if_this_not_that(original_list, 3)"
   ]
  },
  {
   "cell_type": "markdown",
   "metadata": {},
   "source": [
    "### Exercise: Quadratic Formula\n",
    "The quadratic formula is so tedious to type into our calculators. It would be much nicer if we could just input our coefficients and get the roots. Here's the formula:\n",
    "\n",
    "$$x = \\frac{-b \\pm \\sqrt{b^2-4ac} }{2a} $$\n",
    "\n",
    "Given these coefficients a, b, and c, we can create a function which determines the roots and returns them to us. \n",
    "\n",
    "Fill in the blanks and you should have a working quadratic formula calculator! For ease, there is a square root function in numpy with syntax <code>np.sqrt(someNumber)</code>.\n",
    "\n",
    "Then index the results of calling quadform, which we set to quadRoots, so that you can get each root individually."
   ]
  },
  {
   "cell_type": "code",
   "execution_count": null,
   "metadata": {
    "collapsed": true
   },
   "outputs": [],
   "source": [
    "# HINT: use np.sqrt(someNumber) to square someNumber\n",
    "\n",
    "def quadform(a,b,c):\n",
    "    d = b**2-4*a*c # discriminant\n",
    "    if d < 0:\n",
    "        print (\"This equation has no real solution\")\n",
    "    else:\n",
    "        x0 = ???\n",
    "        x1 = ???\n",
    "        return [x0,x1]    # returning a list containing the two numbers\n",
    "\n",
    "quadRoots = quadform(1, -4, 4)    # call the function\n",
    "print(quadRoots)\n",
    "\n",
    "# Index the first and second roots from the list quadRoots:\n",
    "root1 = ???\n",
    "root2 = ???\n",
    "print(root1)\n",
    "print(root2)"
   ]
  },
  {
   "cell_type": "markdown",
   "metadata": {},
   "source": [
    "Reminder: In most computer languages, the whitespace indentation is purely aesthetic. In python, it <b>is</b> the syntax. Blocks inside functions, if/elif/else statements, and for- and while-loops need to be indented so that Python knows that it is part of that statement."
   ]
  },
  {
   "cell_type": "markdown",
   "metadata": {},
   "source": [
    "Now let's plot a quadratic, find its roots using quadform, and plot the roots on top of the quadratic! Follow the comments to see exactly what you have to do."
   ]
  },
  {
   "cell_type": "code",
   "execution_count": null,
   "metadata": {
    "collapsed": true,
    "scrolled": true
   },
   "outputs": [],
   "source": [
    "# FILL IN: Use np.arange to make an array from -10 to 10.\n",
    "# FILL IN: Create a, b, and c variables and set them to some values. \n",
    "# Make sure that your a, b, and c values produce a real solution in quadform.\n",
    "# FILL IN: Create a y variable representing a quadratic (ax^2 + bx + c), using x, a, b, and c from above.\n",
    "\n",
    "# FILL IN: Plot x and y using red dots. This will plot as a parabola.\n",
    "\n",
    "# FILL IN: As you did in the above cell, call quadform with a, b, and c.\n",
    "# FILL IN: Then index these to get your roots!\n",
    "root1 = ???   \n",
    "root2 = ???\n",
    "\n",
    "plt.xlabel('x')  # this puts a label on the x axis, feel free to replace with your own text\n",
    "plt.ylabel('y')  # ditto for the y axis\n",
    "plt.axvline(x=root1,ls=':')    # plots vertical dotted lines at the root x-values\n",
    "plt.axvline(x=root2,ls=':')\n",
    "plt.show()"
   ]
  },
  {
   "cell_type": "markdown",
   "metadata": {},
   "source": [
    "### Exercise: Functions\n",
    "\n",
    "Implement the repeated function (fill in YOUR CODE HERE), which takes a one-argument function f, a positive integer n, and a parameter x. It returns the result of composing, or applying, f n times on x, i.e., f(f(...f(x)...)). Aim to pass the tests!"
   ]
  },
  {
   "cell_type": "code",
   "execution_count": null,
   "metadata": {
    "collapsed": true
   },
   "outputs": [],
   "source": [
    "\"\"\"Returns the result of composing f n times on x. \"\"\"\n",
    "def repeated(f, n, x):\n",
    "\n",
    "    \n",
    "\n",
    "\"\"\" Test cases below. Add print statements around them to try out your code. \"\"\"\n",
    "def square(x):\n",
    "    return x * x\n",
    "# should return 81\n",
    "print(repeated(square, 2, 3))  # square(square(3)), or 3 ** 4\n",
    "# should return 16\n",
    "repeated(square, 1, 4)  # square(4)\n",
    "# should return 18446744073709551616\n",
    "repeated(square, 6, 2)  # big number\n",
    "\n",
    "def opposite(b):\n",
    "    return not b\n",
    "# should return True\n",
    "repeated(opposite, 4, True)\n",
    "# should return False\n",
    "repeated(opposite, 5, True)\n",
    "# should return False\n",
    "repeated(opposite, 631, 1)\n",
    "# should return True\n",
    "repeated(opposite, 3, 0)\n"
   ]
  },
  {
   "cell_type": "markdown",
   "metadata": {},
   "source": [
    "### Exercise: Functions\n",
    "\n",
    "Now that you have some sense of how a function works, define your own function which takes in your name and returns your name reversed. I've provided a basic skeleton below."
   ]
  },
  {
   "cell_type": "code",
   "execution_count": null,
   "metadata": {
    "collapsed": true
   },
   "outputs": [],
   "source": [
    "def reversename(name):\n",
    "\n",
    "\n",
    "print(reversename('oskibear'))   # replace with your own name"
   ]
  },
  {
   "cell_type": "markdown",
   "metadata": {},
   "source": [
    "## Recursion\n",
    "A recursive function is a function that calls itself. Recursion is a useful technique for reducing complex problems into much simpler problems. There are three parts to a recursive function: the base case, passing a simplified argument into the recursive call, and using the recursive call to solve the problem.\n",
    "\n",
    "There are several important recursive sequences in mathematics, including the Fibonacci sequence. Recursion involves having a function call itself until it reaches a certain condition. Factorials can be implemented recursively.\n",
    "This is done by:"
   ]
  },
  {
   "cell_type": "code",
   "execution_count": null,
   "metadata": {
    "collapsed": true
   },
   "outputs": [],
   "source": [
    "def factorial(n):\n",
    "    if n==0:   # base case\n",
    "        return 1\n",
    "    else:\n",
    "        print(n)\n",
    "        return n * factorial(n-1)   # recursive call, passing in (n-1) and multiplying the current number by n \n",
    "\n",
    "print(factorial(4))"
   ]
  },
  {
   "cell_type": "markdown",
   "metadata": {},
   "source": [
    "As you'll notice, in the simple case it returns a single number, 1. In the more complicated case where n is not 0, it multiplies our number n by the result of the next lowered factorial at n-1. This continues until our condition n==0 is met. "
   ]
  },
  {
   "cell_type": "markdown",
   "metadata": {},
   "source": [
    "### Exercise: Recursive functions\n",
    "\n",
    "Try to write a function which, for a given number, gives you the Fibonacci sum, defined as \n",
    "$$ fibonacci(n)= fibonacci(n-1) + fibonacci(n-2)$$\n",
    "where \n",
    "$fibonacci(0) = 0$ and $fibonacci(1)  = 1$\n",
    "\n",
    "Break it down into simpler problems."
   ]
  },
  {
   "cell_type": "code",
   "execution_count": null,
   "metadata": {
    "collapsed": true
   },
   "outputs": [],
   "source": [
    "def fibonacci(x):\n",
    "\n",
    "# 0, 1, 1, 2, 3, 5, 8, 13, 21, 34, ...\n",
    "print(fibonacci(7))   # should give 13"
   ]
  },
  {
   "cell_type": "markdown",
   "metadata": {},
   "source": [
    "### Exercise: Recursive functions II\n",
    "\n",
    "In Exercise 4, you used for loops to reverse your own name. Do the same thing now using recursion. This will be conceptually difficult so try to think about it and talk with your neighbor!"
   ]
  },
  {
   "cell_type": "code",
   "execution_count": null,
   "metadata": {
    "collapsed": true
   },
   "outputs": [],
   "source": [
    "def reversename2(name):\n",
    "\n",
    "    \n",
    "print(reversename2('oskibear')) "
   ]
  },
  {
   "cell_type": "markdown",
   "metadata": {},
   "source": [
    "### Bonus: Curve Fitting\n",
    "Lastly, we are going to load in some data and try to fit some curve to it. We know how to write functions, use arrays, lists, and how to plot things (sort of ). To do this fit, we will be using the method of linear least squares to find a curve of best fit for a set of data. You do not have to know the intricacies of the method to use it. For a linear case, it reduces to the matrix equation:\n",
    "\n",
    "$$ \\begin{pmatrix}\n",
    "N & \\sum x_{i} \\\\\n",
    "\\sum x_{i} & \\sum x_{i}^2 \\\\\n",
    "\\end{pmatrix}\n",
    "\\begin{pmatrix}\n",
    "cfit \\\\\n",
    "mfit\\\\\n",
    "\\end{pmatrix}\n",
    "=\n",
    "\\begin{pmatrix}\n",
    "\\sum y_{i} \\\\\n",
    "\\sum x_{i} y_{i}\\\\\n",
    "\\end{pmatrix} $$\n",
    "\n",
    "where N is the number of elements, $x_{i}$ are the x values, $y_{i}$ are the y values, $cfit$ is the y-intercept, and $mfit$ is the slope."
   ]
  },
  {
   "cell_type": "code",
   "execution_count": null,
   "metadata": {
    "collapsed": true
   },
   "outputs": [],
   "source": [
    "\"\"\" Be sure to have uploaded data.txt! \"\"\"\n",
    "\n",
    "data = np.loadtxt('data.txt') # loading a data set. this is a useful thing to remember!\n",
    "data = np.transpose(data)   # interchange each row and its corresponding column\n",
    "x = data[0]\n",
    "y = data[1]\n",
    "plt.plot(x,y,'go',label='data')\n",
    "plt.legend(loc=2)\n",
    "plt.show()"
   ]
  },
  {
   "cell_type": "markdown",
   "metadata": {},
   "source": [
    "Above, we have loaded in some data. We transposed it to more easily index it. It looks like it is linear so it seems okay to approximate it with a linear fit. We can do this by setting up some matrices and solving the matrix equation above.\n"
   ]
  },
  {
   "cell_type": "code",
   "execution_count": null,
   "metadata": {
    "collapsed": true
   },
   "outputs": [],
   "source": [
    "matrix_one = np.array([ [ len(x), np.sum(x)],[np.sum(x),np.sum(x**2)]])\n",
    "matrix_three = np.array([ [np.sum(y)],[np.sum(x*y)]])\n",
    "cfit, mfit=np.dot(np.linalg.inv(matrix_one), matrix_three)\n",
    "bestfit= cfit + x*mfit\n",
    "plt.plot(x, bestfit,'b',label='best fit')\n",
    "plt.plot(x,y,'go',label='data')\n",
    "plt.legend(loc=2)\n",
    "plt.show()"
   ]
  },
  {
   "cell_type": "markdown",
   "metadata": {},
   "source": [
    "Above we have shown our line of best fit against the data, and it seems like a fairly good fit. It appears that a linear model was an appropriate one to use in this scenario.\n"
   ]
  },
  {
   "cell_type": "markdown",
   "metadata": {},
   "source": [
    "###  Bonus Exercise: Fit a quadratic polynomial\n",
    "Now that you have a decent idea of how to plot things, use the np.polyfit function below to try to fit higher order functions to the above data. "
   ]
  },
  {
   "cell_type": "code",
   "execution_count": null,
   "metadata": {
    "collapsed": true
   },
   "outputs": [],
   "source": [
    "#polyfit takes in three arguments: \n",
    "# x data, y data, and the nth degree polynomial you want to fit\n",
    "#for a quadratic polynomial this looks like:\n",
    "\n",
    "quad = np.polyfit(x,y,2)\n",
    "a = quad[0]\n",
    "b = quad[1]\n",
    "c = quad[2]\n",
    "quadfit = a*x**2 + b*x +c\n",
    "plt.plot(x, quadfit,'b',label='quad fit')\n",
    "plt.plot(x,bestfit,'r',label='linear fit')\n",
    "plt.plot(x,y,'go',label='data')\n",
    "plt.legend(loc=2)\n",
    "plt.show()\n",
    "\n",
    "# Try with a third and fourth order polynomial\n"
   ]
  },
  {
   "cell_type": "markdown",
   "metadata": {},
   "source": [
    "### Bonus: Images \n",
    "\n",
    "A fun section to go through if you finish early!\n",
    "\n",
    "Image analysis is incredibly useful. Facial recognition software, like those used by Snapchat, Facebook or Google Photos, attempts to recognize human faces in photos and successfully does so through deep learning, something beyond the scope of this bootcamp. This is just one of the many uses of image analysis in technology.\n",
    "To get to that stage though, one must know how to manipulate images using computers. Let's start by looking at a checkerboard image and trying to figure out where the boundaries are. We'll compare our answer to that of a function optimized to do this sort of thing.\n",
    "To do this, we'll use the scikit-image library, which we'll install using this command below. If you are having trouble, you may need to install as an administrator. If not, do not fret too much as you won't need it for the final exercise."
   ]
  },
  {
   "cell_type": "code",
   "execution_count": null,
   "metadata": {
    "collapsed": true
   },
   "outputs": [],
   "source": [
    "!pip install scikit-image"
   ]
  },
  {
   "cell_type": "code",
   "execution_count": null,
   "metadata": {
    "collapsed": true,
    "scrolled": true
   },
   "outputs": [],
   "source": [
    "from skimage import data, io, filters\n",
    "from scipy import ndimage as nd\n",
    "image = data.checkerboard() #gives us a nice checkerboard image\n",
    "edges = filters.sobel(image) #finds all the edges\n",
    "plt.imshow(image,cmap='gray')\n",
    "plt.show()\n",
    "#also finds all the edges \n",
    "im1 = nd.binary_dilation(image,iterations=2) -nd.binary_erosion(image,iterations=2 )\n",
    "plt.imshow(edges,cmap='gray')\n",
    "plt.show()\n",
    "plt.imshow(im1,cmap='gray')\n",
    "plt.show()"
   ]
  },
  {
   "cell_type": "markdown",
   "metadata": {},
   "source": [
    "This might seem rather silly, but binary image analysis, the kind we just employed, has a lot of uses in scientific image analysis from telescopes to microscopes, especially if you need to find boundaries between objects in your images.\n",
    "\n",
    "You might still be wondering, how do I get any useful information from the actual image though?\n",
    "Images are two-dimensional arrays. At each pixel, there is a corresponding value that tells you what color that pixel is."
   ]
  },
  {
   "cell_type": "markdown",
   "metadata": {},
   "source": [
    "### Bonus Exercise: Image Slicing\n",
    "In this exercise, you're going to load in an image of a pine tree and then mess around with it to get a better feel for indexing two dimensional arrays and for plotting.\n",
    "When we index images, we first have the y index then the x index.\n",
    "for example if I wanted the value at the (X,Y) coordinate pair of [400,1200], I would index the image like this: image[1200,400]. "
   ]
  },
  {
   "cell_type": "code",
   "execution_count": null,
   "metadata": {
    "collapsed": true
   },
   "outputs": [],
   "source": [
    "\"\"\" Be sure to have uploaded pinetree.png! \"\"\"\n",
    "\n",
    "from PIL import Image # a useful image library\n",
    "img = np.array(Image.open('pinetree.png')) #import our pinetree image\n",
    "plt.imshow(img) #plot it and show it\n",
    "plt.show()"
   ]
  },
  {
   "cell_type": "markdown",
   "metadata": {},
   "source": [
    "As you might have noticed, the plot above places the origin in the upper left corner, which is silly. We can fix this by specifying an argument in the plt.imshow() function"
   ]
  },
  {
   "cell_type": "code",
   "execution_count": null,
   "metadata": {
    "collapsed": true
   },
   "outputs": [],
   "source": [
    "plt.imshow(img,origin='lower') #plot it and show it\n",
    "plt.show()"
   ]
  },
  {
   "cell_type": "markdown",
   "metadata": {},
   "source": [
    "Now the damn tree is upside down. Use negative indexing to make it upright."
   ]
  },
  {
   "cell_type": "code",
   "execution_count": null,
   "metadata": {
    "collapsed": true
   },
   "outputs": [],
   "source": [
    "imgflip = np.copy(img[::-1]) #fill in the blank with the right indexing tool!\n",
    "plt.imshow(imgflip,origin='lower') #plot it and show it\n",
    "plt.show()"
   ]
  },
  {
   "cell_type": "markdown",
   "metadata": {},
   "source": [
    "Great! We have our tree upright and the origin in the proper place.\n",
    "There's a whole lot of white space though, let's zoom in so we don't have as much"
   ]
  },
  {
   "cell_type": "code",
   "execution_count": null,
   "metadata": {
    "collapsed": true
   },
   "outputs": [],
   "source": [
    "imgzoom = np.copy(imgflip[100:,])   # remember, when you index images, y comes before x. here we're cropping the y pixels to 100 and above.\n",
    "#fill in the blank above to index it to avoid the whitespace on bottom\n",
    "plt.imshow(imgzoom, origin='lower')\n",
    "plt.show()\n"
   ]
  },
  {
   "cell_type": "markdown",
   "metadata": {},
   "source": [
    "Now we're going to find out where all of the image is blank. In this case, it appears white but if we opened this image in photoshop or whatever it would have the checkerboard background indicating it's actually blank. We can find all of these blank pixels using the np.where function. "
   ]
  },
  {
   "cell_type": "code",
   "execution_count": null,
   "metadata": {
    "collapsed": true
   },
   "outputs": [],
   "source": [
    "#find where all the blank pixels are\n",
    "imblanky,imblankx,valid = np.where(imgzoom == [0,0,0,0])\n",
    "#make a copy of the image so we don't mess up the other one\n",
    "imcopy = np.copy(imgzoom)\n",
    "#set the blank pixels to some new color, try out some!\n",
    "imcopy[imblanky,imblankx] = [155,20,80,255]\n",
    "plt.imshow(imcopy,origin='lower')\n",
    "plt.show()"
   ]
  },
  {
   "cell_type": "markdown",
   "metadata": {},
   "source": [
    "Now try zooming into the just the top part of the tree."
   ]
  },
  {
   "cell_type": "code",
   "execution_count": null,
   "metadata": {
    "collapsed": true
   },
   "outputs": [],
   "source": [
    "imzoom2 = np.copy(imcopy[950:,320:550]) #fill in the indices\n",
    "plt.imshow(imzoom2,origin='lower')\n",
    "plt.show()"
   ]
  },
  {
   "cell_type": "markdown",
   "metadata": {},
   "source": [
    "As you can see, the indexing tools we employed on one dimensional arrays are just as useful when dealing with images (two dimensional arrays) and higher dimensional arrays."
   ]
  }
 ],
 "metadata": {
  "anaconda-cloud": {},
  "kernelspec": {
   "display_name": "Python 3",
   "language": "python",
   "name": "python3"
  },
  "language_info": {
   "codemirror_mode": {
    "name": "ipython",
    "version": 3
   },
   "file_extension": ".py",
   "mimetype": "text/x-python",
   "name": "python",
   "nbconvert_exporter": "python",
   "pygments_lexer": "ipython3",
   "version": "3.6.1"
  }
 },
 "nbformat": 4,
 "nbformat_minor": 1
}
