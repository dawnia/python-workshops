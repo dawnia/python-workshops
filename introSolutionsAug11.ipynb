{
 "cells": [
  {
   "cell_type": "markdown",
   "metadata": {},
   "source": [
    "# Python Bootcamp\n",
    "## CalNERDS\n",
    "\n",
    "Jupyter Notebook is an interactive way to code, with both text and image output all in-line. We run each block of text or code with Shift-Enter. For more help running the notebook, see here: https://jupyter-notebook-beginner-guide.readthedocs.io/en/latest/execute.html\n",
    "\n",
    "<ol>\n",
    "##  Some Notes \n",
    " <ul>\n",
    "     <li> Please read carefully in between the code segments. There are some code snippets that are meant to show you how to do something but you are supposed to figure out <b>what</b> to put in place of the samples. </li>\n",
    "     <li> Please ask questions early and often. Chances are someone else has the exact same question or concern and it will only help!\n",
    " </ul>\n",
    " "
   ]
  },
  {
   "cell_type": "markdown",
   "metadata": {},
   "source": [
    "### Python as a Calculator\n",
    "Let's do some math! Computers are really handy because we can use them as calculators to perform many calculations on lots of data. Before we can do that we need to get the syntax down first. To run the code blocks in this notebook, press Shift+Enter!\n",
    "Below are a bunch of mathematical operations. Some are quite obvious, whereas others are not so much. Run each one and figure out what they do"
   ]
  },
  {
   "cell_type": "code",
   "execution_count": null,
   "metadata": {
    "collapsed": false
   },
   "outputs": [],
   "source": [
    "7+4"
   ]
  },
  {
   "cell_type": "code",
   "execution_count": null,
   "metadata": {
    "collapsed": false
   },
   "outputs": [],
   "source": [
    "7/4"
   ]
  },
  {
   "cell_type": "code",
   "execution_count": null,
   "metadata": {
    "collapsed": false,
    "scrolled": true
   },
   "outputs": [],
   "source": [
    "7*4"
   ]
  },
  {
   "cell_type": "code",
   "execution_count": null,
   "metadata": {
    "collapsed": false
   },
   "outputs": [],
   "source": [
    "7-4"
   ]
  },
  {
   "cell_type": "code",
   "execution_count": null,
   "metadata": {
    "collapsed": false
   },
   "outputs": [],
   "source": [
    "7//4"
   ]
  },
  {
   "cell_type": "code",
   "execution_count": null,
   "metadata": {
    "collapsed": false
   },
   "outputs": [],
   "source": [
    "7%4"
   ]
  },
  {
   "cell_type": "code",
   "execution_count": null,
   "metadata": {
    "collapsed": false
   },
   "outputs": [],
   "source": [
    "3**4"
   ]
  },
  {
   "cell_type": "code",
   "execution_count": null,
   "metadata": {
    "collapsed": false
   },
   "outputs": [],
   "source": [
    "2**(1./2)"
   ]
  },
  {
   "cell_type": "markdown",
   "metadata": {},
   "source": [
    "Now we have each of our mathematical operations and we should know what each does. +,-,\\*, and / should be obvious as addition, subtraction, multiplication, and division. The others may not be so obvious. The // is what is called integer division. In other words, it knocks off the remainder and only cares about the number of whole times that a number goes into another. The % allows us to do modular division. This returns only the remainder. The \\*\\* is different from just a \\* as it allows you to exponentiate. Taking the exponential of a fraction, above we used (1/2)=square root,  allows us to take roots of numbers."
   ]
  },
  {
   "cell_type": "markdown",
   "metadata": {},
   "source": [
    "### Variables and Data Types \n",
    "If we are doing long calculations, we do not want to have to type out the same long expressions every time. We can save these calculations as <b> variables</b>. Variables can be words with numbers but must start with a letter. We can create a variable for my age as below"
   ]
  },
  {
   "cell_type": "code",
   "execution_count": null,
   "metadata": {
    "collapsed": true
   },
   "outputs": [],
   "source": [
    "dawniaAge = 20"
   ]
  },
  {
   "cell_type": "code",
   "execution_count": null,
   "metadata": {
    "collapsed": true
   },
   "outputs": [],
   "source": [
    "americaAge = 241"
   ]
  },
  {
   "cell_type": "code",
   "execution_count": null,
   "metadata": {
    "collapsed": false
   },
   "outputs": [],
   "source": [
    "print(americaAge - dawniaAge)"
   ]
  },
  {
   "cell_type": "markdown",
   "metadata": {},
   "source": [
    "This may seem much more tedious than typing 241 - 21, but you might not always know exactly what the input parameters are, so it is necessary to write things in terms of variables. Numbers are nice, but there are many different datatypes in Python.\n",
    "These include:\n",
    "<ul>\n",
    "<li>Integers: whole numbers (...-3,-2,-1,0,1,2,3...)</li>\n",
    "<li>Floats: Numbers with decimals. Use more memory than integers</li>\n",
    "<li>Strings: information contained in quotes, all information that is not easily stores as numbers</li>\n",
    "<li>Lists: a series of things, not necessarily of the same data type, contained in brackets</li>\n",
    "<li>Booleans: True or False. Used for logic and Control Flow</li>\n",
    "</ul>\n",
    "\n",
    "Each of these datatypes has built-in functions that make them easy to manipulate. If you think of something to do to one of them, chances are there is already a built in function for it. These functions are available through dot notation. \n",
    "\n",
    "We've already looked a bit at integers and floats, so let's look at strings.\n",
    "\n",
    "#### Strings\n",
    "Let's start by creating a variable with your own name"
   ]
  },
  {
   "cell_type": "code",
   "execution_count": null,
   "metadata": {
    "collapsed": true
   },
   "outputs": [],
   "source": [
    "my_name = 'dawnia' # fill in with your own name! By the way the # allows you to write comments that aren't interpreted by python"
   ]
  },
  {
   "cell_type": "markdown",
   "metadata": {},
   "source": [
    "Now that you should have your name saved we can start doing things to it with the string's built in functions. For example, say you want to capitalize your name if you wrote it all in lower case.\n"
   ]
  },
  {
   "cell_type": "code",
   "execution_count": null,
   "metadata": {
    "collapsed": false
   },
   "outputs": [],
   "source": [
    "my_name = my_name.capitalize()  \n",
    "print(my_name)\n",
    "a = 5\n",
    "a = a + 7\n",
    "print(a)"
   ]
  },
  {
   "cell_type": "markdown",
   "metadata": {},
   "source": [
    "Now  you can see that the name has been capitalized. We can make it all uppercase or all lowercase."
   ]
  },
  {
   "cell_type": "code",
   "execution_count": null,
   "metadata": {
    "collapsed": false
   },
   "outputs": [],
   "source": [
    "my_name = my_name.upper()\n",
    "print(my_name)\n",
    "my_name = my_name.lower()\n",
    "print(my_name)\n",
    "#we can replace a letter with replace\n",
    "print(my_name.replace('i','1'))\n",
    "#or check if your name ends with a certain letter\n",
    "print(my_name.endswith('d'))"
   ]
  },
  {
   "cell_type": "markdown",
   "metadata": {},
   "source": [
    "Strings are <b> iterable</b> and can therefore be <b>indexed</b>. This is just a fancy way of saying that we can use indices to take certain chunks of the string. This is also true of lists and tuples. To do this you would use square brackets, [], along with an index which starts with 0 and goes until the number of elements in the string.\n",
    "For example, if I wanted the first letter in my name:"
   ]
  },
  {
   "cell_type": "code",
   "execution_count": null,
   "metadata": {
    "collapsed": false
   },
   "outputs": [],
   "source": [
    "first_letter = my_name[0]\n",
    "print(first_letter)"
   ]
  },
  {
   "cell_type": "markdown",
   "metadata": {},
   "source": [
    "This indexing allows us to select elements from these datatypes. With this tool, it is a good time to move onto lists.\n",
    "### Lists\n",
    "Lists are arguably the most important datatype in scientific computing in python. Storing data in lists is easy and straightforward.\n",
    "Lists can contain multiple datatypes. They can be made up of strings, floats, integers, more lists, booleans, dictionaries, and almost every other datatype. Let's start by storing some numbers in a list to learn what we can do with these lists.\n"
   ]
  },
  {
   "cell_type": "code",
   "execution_count": null,
   "metadata": {
    "collapsed": false
   },
   "outputs": [],
   "source": [
    "x = [0,4,3,2,16,12,14,5]\n",
    "print(x)"
   ]
  },
  {
   "cell_type": "markdown",
   "metadata": {},
   "source": [
    "We can perform a variety of useful operations with inherent list functions. We can add things to the list with the append function. We can insert things into the list at a given index with the insert function. Try "
   ]
  },
  {
   "cell_type": "code",
   "execution_count": null,
   "metadata": {
    "collapsed": false
   },
   "outputs": [],
   "source": [
    "x.append(75) #add a number inside the parentheses\n",
    "print(x)\n",
    "x.insert(0,10000) #add an index, and a number, separated by a comma. The index and the number are both arguments of insert\n",
    "print(x)"
   ]
  },
  {
   "cell_type": "markdown",
   "metadata": {},
   "source": [
    "You should notice that here we are not setting our list x equal to the result of the function being performed on the list. That is because when the function runs it is inherently changing the list rather than returning anything. \n",
    "\n",
    "As mentioned earlier, we can use indexing to obtain elements from these lists. The slice operator [start:end:size] returns the part of the string from the index start to the index end, including the first but excluding the last. In other words, start with the character at index start and go up to but do not include the character at index end. \"size\" allows you to select only every \"size\" index value.\n",
    "\n",
    "You can exclude any or all of these! The default start is the first index, index 0. The default index is the last index, index \"list length - 1\". The default step is 1.\n",
    "\n",
    "Test out the statements below and try to figure out what each does. Remember, in computer science, the first index is 0!"
   ]
  },
  {
   "cell_type": "code",
   "execution_count": null,
   "metadata": {
    "collapsed": false
   },
   "outputs": [],
   "source": [
    "print(x[3:6])"
   ]
  },
  {
   "cell_type": "code",
   "execution_count": null,
   "metadata": {
    "collapsed": false
   },
   "outputs": [],
   "source": [
    "print(x[:4])  # where do we start? where do we end?"
   ]
  },
  {
   "cell_type": "code",
   "execution_count": null,
   "metadata": {
    "collapsed": false
   },
   "outputs": [],
   "source": [
    "print(x[4:])"
   ]
  },
  {
   "cell_type": "code",
   "execution_count": null,
   "metadata": {
    "collapsed": false
   },
   "outputs": [],
   "source": [
    "print(x[-2])   # hint: [-1] gives the last element in the list"
   ]
  },
  {
   "cell_type": "code",
   "execution_count": null,
   "metadata": {
    "collapsed": false
   },
   "outputs": [],
   "source": [
    "print(x[::2])   # from start to end, giving every other value"
   ]
  },
  {
   "cell_type": "markdown",
   "metadata": {},
   "source": [
    "There is one very important function to mention right now that automatically generates a list. This is the range function. The range function generates a list of numbers from a start point to an end point given a certain step size. Like with list indexing, if the step size is not specified, it is assumed to be one.\n",
    "\n",
    "When called with one parameter as below, that number represents the number of values range outputs, or in other words, the length of the list it outputs. \n",
    "\n",
    "Below we introduce a for-loop, which reads almost like natural language: \"For every *item* in the given *list of items*, *do whatever's indented in the block*.\""
   ]
  },
  {
   "cell_type": "code",
   "execution_count": null,
   "metadata": {
    "collapsed": false
   },
   "outputs": [],
   "source": [
    "for i in range(10):  # numbers from 0 to 10-1\n",
    "    print(i)"
   ]
  },
  {
   "cell_type": "code",
   "execution_count": null,
   "metadata": {
    "collapsed": false
   },
   "outputs": [],
   "source": [
    "for i in range(0,10): \n",
    "    print(i)"
   ]
  },
  {
   "cell_type": "code",
   "execution_count": null,
   "metadata": {
    "collapsed": false
   },
   "outputs": [],
   "source": [
    "for i in range(1,10): \n",
    "    print(i)"
   ]
  },
  {
   "cell_type": "markdown",
   "metadata": {},
   "source": [
    "#### Importing libraries \n",
    "While python itself comes with a suite of wonderful capabilities, its true power comes in the sheer number of available packages we can import. A package is a directory of modules, which are .py files defining functions and classes. Basically, a collection of very useful pre-written code. You don't have to reinvent the wheel. \n",
    "\n",
    "Two of the most important packages we will be using are the numpy and matplotlib.pyplot packages. At the beginning of any file that you're writing which requires plotting numerical functions (cosine, sine, gaussians, etc.), you should include the two lines of code importing these packages."
   ]
  },
  {
   "cell_type": "code",
   "execution_count": null,
   "metadata": {
    "collapsed": true
   },
   "outputs": [],
   "source": [
    "import numpy as np\n",
    "import matplotlib.pyplot as plt"
   ]
  },
  {
   "cell_type": "markdown",
   "metadata": {},
   "source": [
    "### Numpy Arrays\n",
    "Though lists are quite useful, numpy arrays are quite a bit more powerful for working with numpy functions and for doing math on them at large. They are very similar to lists in that they are indexed the same way but they do have different functionality.\n",
    "Let's look at the same list from before but now as a numpy array."
   ]
  },
  {
   "cell_type": "code",
   "execution_count": null,
   "metadata": {
    "collapsed": false
   },
   "outputs": [],
   "source": [
    "x_arr = np.array ([0,4,3,2,16,12,14,5])\n",
    "x_list = [0,4,3,2,16,12,14,5]"
   ]
  },
  {
   "cell_type": "markdown",
   "metadata": {},
   "source": [
    "You might think, so what?"
   ]
  },
  {
   "cell_type": "code",
   "execution_count": null,
   "metadata": {
    "collapsed": false,
    "scrolled": true
   },
   "outputs": [],
   "source": [
    "x_arr = x_arr*3 \n",
    "print(x_arr)\n",
    "\n",
    "# Everything gets multipled by three, right? \n",
    "# Now let's see what happens when we try to do it with a list."
   ]
  },
  {
   "cell_type": "code",
   "execution_count": null,
   "metadata": {
    "collapsed": false
   },
   "outputs": [],
   "source": [
    "x_list = x_list *3 \n",
    "print(x_list) \n",
    "\n",
    "# What happened??\n",
    "# You can do this with a regular list, but it requires a map function"
   ]
  },
  {
   "cell_type": "markdown",
   "metadata": {},
   "source": [
    "Note: Here are two ways to do the above with a Python loop. The second way uses something super handy called a list comprehension, which you'll make a lot of use of in CS61A!"
   ]
  },
  {
   "cell_type": "code",
   "execution_count": null,
   "metadata": {
    "collapsed": false
   },
   "outputs": [],
   "source": [
    "original_list = [0,4,3,2,16,12,14,5]\n",
    "\n",
    "listTimes3 = []    # make empty list\n",
    "for elem in original_list:\n",
    "    listTimes3.append(elem * 3)    # put each element from original list * 3 into empty list\n",
    "print(listTimes3)\n",
    "\n",
    "list2Times3 = [elem * 3 for elem in original_list]\n",
    "print(list2Times3)"
   ]
  },
  {
   "cell_type": "markdown",
   "metadata": {},
   "source": [
    "With these numpy arrays, we can perform calculations at large with relative ease and speed. Other useful numpy functions for generating arrays are np.arange (similar to the range function), np.zeros, and np.ones. The latter two generate arrays entirely of zeros and ones, respectively, given a certain shape/size."
   ]
  },
  {
   "cell_type": "markdown",
   "metadata": {},
   "source": [
    "### Exercise 1: Quadratic Formula\n",
    "The quadratic formula is so tedious to type into our calculators. It would be much nicer if we could just input our coefficients and get the roots. Here it is for a quick reminder\n",
    "$$x = \\frac{-b \\pm \\sqrt{b^2-4ac} }{2a} $$\n",
    "Given these coefficients a,b, and c, we can create a function which determines the roots and returns them to us. We start again with the syntax that we had earlier. Fill in the blanks and you should have a working quadratic formula calculator! For ease, there is a square root function in numpy, to use this, the syntax is np.sqrt(number).\n",
    "\n",
    "Then, try the next block of code. Here, try indexing the results of calling quadform, which we set to quadRoots, so that you can get each root individually."
   ]
  },
  {
   "cell_type": "code",
   "execution_count": null,
   "metadata": {
    "collapsed": false
   },
   "outputs": [],
   "source": [
    "# HINT: use np.sqrt(someNumber) to square someNumber\n",
    "\n",
    "def quadform(a,b,c):\n",
    "    d = b**2-4*a*c # discriminant\n",
    "    if d < 0:\n",
    "        print (\"This equation has no real solution\")\n",
    "    else:\n",
    "        x0 = (-b + np.sqrt(b**2 - 4*a*c)) / (2 * a) #do some math\n",
    "        x1 = (-b - np.sqrt(b**2 - 4*a*c)) / (2 * a)  #some more math\n",
    "        return [x0,x1] # returning a list containing the two numbers"
   ]
  },
  {
   "cell_type": "markdown",
   "metadata": {},
   "source": [
    "In most computer languages, the whitespace indentation is purely aesthetic. In python, it <b>is</b> the syntax. Blocks inside functions, if statements, elif statements, else statements, for loops, and while loops need to be indented so that python knows that it is part of a certain block of code. To get information from functions, call the function using its name (quadform) followed by parentheses with values (1, -4, 4) for its arguments. You can set the result of this to a variable (quadroots). This looks something like:"
   ]
  },
  {
   "cell_type": "code",
   "execution_count": null,
   "metadata": {
    "collapsed": false
   },
   "outputs": [],
   "source": [
    "quadRoots = quadform(1, -4, 4) # won't work until we write the function in a later exercise\n",
    "#We know that the function returns a list. Our variable quadroots should then be a list\n",
    "\n",
    "print(quadRoots)\n",
    "#How would we get the first root or the second root from this list ? (hint: indexing!)\n",
    "firstRoot = quadRoots[0]\n",
    "secondRoot = quadRoots[1]\n",
    "print(firstRoot)\n",
    "print(secondRoot)"
   ]
  },
  {
   "cell_type": "markdown",
   "metadata": {},
   "source": [
    "### Plotting examples"
   ]
  },
  {
   "cell_type": "code",
   "execution_count": null,
   "metadata": {
    "collapsed": false
   },
   "outputs": [],
   "source": [
    "plt.plot([1,2,3,4])\n",
    "plt.ylabel('some numbers')\n",
    "plt.show()"
   ]
  },
  {
   "cell_type": "markdown",
   "metadata": {},
   "source": [
    "You may be wondering why the x-axis ranges from 0-3 and the y-axis from 1-4. If you provide a single list or array to the plot() command, matplotlib assumes it is a sequence of y values, and automatically generates the x values for you. Since python ranges start with 0, the default x vector has the same length as y but starts with 0. Hence the x data are [0,1,2,3].\n",
    "\n",
    "plot() is a versatile command, and will take an arbitrary number of arguments. For example, to plot x versus y, you can issue the command:\n",
    "\n",
    "plt.plot([1, 2, 3, 4], [1, 4, 9, 16])\n",
    "\n",
    "See the plot() documentation for a complete list of line styles and format strings. The axis() command in the example below takes a list of [xmin, xmax, ymin, ymax] and specifies the viewport of the axes.\n",
    "\n",
    "plot() documentation: https://matplotlib.org/api/pyplot_api.html#matplotlib.pyplot.plot\n",
    "\n",
    "For every x, y pair of arguments, there is an optional third argument which is the format string that indicates the color and line type of the plot. The letters and symbols of the format string are from MATLAB, and you concatenate a color string with a line style string. The default format string is ‘b-‘, which is a solid blue line. For example, to plot the above with red circles, you would issue:"
   ]
  },
  {
   "cell_type": "code",
   "execution_count": null,
   "metadata": {
    "collapsed": false
   },
   "outputs": [],
   "source": [
    "plt.plot([1,2,3,4], [1,4,9,16], 'ro')\n",
    "plt.axis([0, 6, 0, 20])\n",
    "plt.show()"
   ]
  },
  {
   "cell_type": "markdown",
   "metadata": {},
   "source": [
    "If not used with labeled data (i.e., without a data argument), an arbitrary number of x, y, fmt groups can be specified, as in:\n",
    "\n",
    "a.plot(x1, y1, 'g^', x2, y2, 'g-')\n",
    "\n",
    "If matplotlib were limited to working with lists, it would be fairly useless for numeric processing. Generally, you will use numpy arrays. In fact, all sequences are converted to numpy arrays internally. The example below illustrates a plotting several lines with different format styles in one command using arrays."
   ]
  },
  {
   "cell_type": "code",
   "execution_count": null,
   "metadata": {
    "collapsed": false
   },
   "outputs": [],
   "source": [
    "# Remember, arange returns evenly spaced values from start to stop at step intervals.\n",
    "# Always google the documentation if you need more info!\n",
    "# https://docs.scipy.org/doc/numpy/reference/generated/numpy.arange.html\n",
    "\n",
    "zoop = np.arange(0., 5., 0.2)\n",
    "\n",
    "# red dashes, blue squares and green triangles\n",
    "plt.plot(zoop, zoop, 'r--', zoop, zoop**2, 'bs', zoop, zoop**3, 'g^')\n",
    "plt.show()"
   ]
  },
  {
   "cell_type": "markdown",
   "metadata": {},
   "source": [
    "In the above code, try adding a fourth function to the plt.plot() line.\n",
    "\n",
    "Here we define squiggle, which just gives an equation.\n",
    "We use np.arange to create a vectors containing values from 0 to 5.\n",
    "We set up the plot and then plot the equation defined in squiggle, as well as a cosine function."
   ]
  },
  {
   "cell_type": "code",
   "execution_count": null,
   "metadata": {
    "collapsed": false
   },
   "outputs": [],
   "source": [
    "def squiggle(x):   # define our function!\n",
    "    return np.exp(-x) * np.cos(2*np.pi*x)\n",
    "\n",
    "values = np.arange(0.0, 5.0, 0.1)   # spaced at intervals of 0.1\n",
    "\n",
    "plt.figure(1)\n",
    "plt.subplot(211)   # subplot() returns subplot axes positioned by the given grid definition\n",
    "\n",
    "# plotting t1 and the results of squiggle on t1, and t2 and the results of squiggle on t2\n",
    "plt.plot(values, squiggle(values), 'bo', values, squiggle(values), 'm')  # 'bo' = blue circle, 'm' = magenta\n",
    "plt.subplot(212)\n",
    "plt.plot(values, np.cos(2 * np.pi * values), 'r--')   # plotting cosine\n",
    "plt.show()"
   ]
  },
  {
   "cell_type": "markdown",
   "metadata": {},
   "source": [
    "Above, subplot produces subaxes in a figure which represents the top plot (i.e. the first) in a 2 row by 1 column notional grid (no grid actually exists, but conceptually this is how the returned subplot has been positioned).\n",
    "\n",
    "Take a minute to explore the matplotlib gallery!\n",
    "https://matplotlib.org/gallery.html"
   ]
  },
  {
   "cell_type": "markdown",
   "metadata": {},
   "source": [
    "### Exercise 2: Practice Plotting Functions\n",
    "Let's get familiar with matplotlib.pyplot and some numpy arrays. We'll generate an array of x values between -10 and 10. Fill in \"y\" below."
   ]
  },
  {
   "cell_type": "code",
   "execution_count": null,
   "metadata": {
    "collapsed": false,
    "scrolled": true
   },
   "outputs": [],
   "source": [
    "# getting the quadratic\n",
    "x = np.arange(-10,11) #because the endpoint is exclusive, end at 11 to get from -10 to 10.\n",
    "a = 1   # saving example constants into new variables\n",
    "b = -3\n",
    "c = -4\n",
    "y = a * x**2 + b * x + c   # FILL IN with constants a, b, and c, and the x array generated above. \n",
    "plt.plot(x,y,'ro') #the r makes it red and the o makes them individual dots. \n",
    "plt.xlabel('x') #this puts a label on the x axis, feel free to replace with your own text\n",
    "plt.ylabel('y') #ditto for the y axis\n",
    "\n",
    "# getting the roots\n",
    "roots = quadform(a,b,c)\n",
    "root1 = roots[0]   # index these properly to get your roots!\n",
    "root2 = roots[1] \n",
    "plt.axvline(x=root1,ls=':')\n",
    "plt.axvline(x=root2,ls=':')\n",
    "\n",
    "plt.show()"
   ]
  },
  {
   "cell_type": "markdown",
   "metadata": {},
   "source": [
    "### Conditionals and Loops\n",
    "Computers are nice because they can perform a bunch of calculations in a really short amount of time. With what we have now though, we aren't much better off than if we had just stuck to a scientific calculator. With conditionals and loops we can expand our capabilities.\n",
    "#### Conditionals\n",
    "Conditionals boil down to the Boolean datatype. Every conditional statement is checking whether something is True or False. If we wanted to make our quadratic solver program slightly more robust, we would have it check if the discriminant is less than zero so that it would warn us if the answer was going to be imaginary rather than breaking as I'm sure many saw with their test input numbers. To do this we would do"
   ]
  },
  {
   "cell_type": "code",
   "execution_count": null,
   "metadata": {
    "collapsed": false
   },
   "outputs": [],
   "source": [
    "a = 1\n",
    "b = 4\n",
    "c = 5 #i've selected these as i know the roots are imaginary\n",
    "if (b**2-4*a*c) < 0:\n",
    "    print('imaginary!')\n",
    "elif (b**2-4*a*c) == 0:   # elif stands for \"else if\"\n",
    "    print('one root')\n",
    "else:\n",
    "    print('two roots')"
   ]
  },
  {
   "cell_type": "markdown",
   "metadata": {},
   "source": [
    "I encourage you to alter the above input parameters (a,b,c) to see how the result changes based on your input. In the above example, I've made use of the three main tools in <b>control flow</b>. \n",
    "\n",
    "The <i> if</i> statement checks the truthiness of the first condition, whether the discriminant is less than zero, and evaluates to a boolean (true or false). The <i>elif</i> statement is an \"else if\" statement, but it is the shortened syntax for python. This elif statement then allows us to check another condition, whether the discriminant is zero. If neither of these are satisfied, we use an <i>else</i> statement that runs if the preceding conditions are not met. The <i>elif</i> and <i>else</i> statements are optional.\n",
    "\n",
    "There are several conditional operators we can use to check things in if and elif statements:\n",
    "<ul>\n",
    "    <li>A==B: used to check the equality of A and B</li>\n",
    "    <li>A!=B: used to check the inequality of A and B</li>\n",
    "    <li>A>B: used to check the if A is greater than B. The less than sign works the same</li>\n",
    "    <li>A in B: used to check if an element A is in some list, numpy array, or tuple B</li>\n",
    "    <li>A >= B: used to check if A is greater than or equal to B. Similar for less than or equal.</li>\n",
    "</ul>\n",
    "\n",
    "Essentially, all conditionals you might use will be variants or combinations of the above conditionals. We can use \"and\" and \"or\" for further capabilities. If an \"or\" is used, if any of the conditionals is true it passes. When an \"and\" is used, all elements have to be true for it to pass."
   ]
  },
  {
   "cell_type": "code",
   "execution_count": null,
   "metadata": {
    "collapsed": false
   },
   "outputs": [],
   "source": [
    "if 3 < 6 and 6 == 6: \n",
    "    print(\"first passes\")\n",
    "    \n",
    "if 3 < 6 and 5 == 6: \n",
    "    print(\"second passes\")\n",
    "    \n",
    "if 3 < 6 or 5 == 6:   \n",
    "    print(\"third passes\")\n",
    "    \n",
    "if 3 < 6 or 5 != 6:   \n",
    "    print(\"fourth passes\")"
   ]
  },
  {
   "cell_type": "markdown",
   "metadata": {},
   "source": [
    "#### Loops\n",
    "There are two main types of loops in python: for loops and while loops. For loops iterate over a set number of values, usually given by a range function or some other list/array. While loops iterate until a certain condition is no longer true. Use a for loop if you know the number of times you'll need to execute the body (ex. \"Traverse this list,\" \"Check the first 1000 integers\"), and use a while loop if you need to repeat the body for an indefinite amount of time until a condition is met.\n",
    "\n",
    "For loop syntax was shown above, but I will show it again here:\n"
   ]
  },
  {
   "cell_type": "code",
   "execution_count": null,
   "metadata": {
    "collapsed": false
   },
   "outputs": [],
   "source": [
    "for i in range(15):   \n",
    "    print(i)"
   ]
  },
  {
   "cell_type": "markdown",
   "metadata": {},
   "source": [
    "Above, we have i as our dummy counter variable. This for loop simply prints the numbers from 0 to 14. As we know from earlier, range(15) generates an iterable of 15 numbers from 0 to 14. For loops are very useful and nice for iterating over lists and arrays, which is often what you would want to do if you are working with data. One bit of code you'll see often is range(len(someList)), which creates a range corresponding to the length of someList.\n"
   ]
  },
  {
   "cell_type": "code",
   "execution_count": null,
   "metadata": {
    "collapsed": false
   },
   "outputs": [],
   "source": [
    "bestList = [\"yup\", \"hmmm\", \"nah\", \"eh?\", \"whatever\"]\n",
    "for bloop in range(len(bestList)):  \n",
    "    print(bestList[bloop])   # index bestList "
   ]
  },
  {
   "cell_type": "markdown",
   "metadata": {},
   "source": [
    "While loops are slightly different. They can be used to perform the same tasks as for loops in a slightly more tedious way. In order to do the same thing with a while loop as in the for loop above, we would write"
   ]
  },
  {
   "cell_type": "code",
   "execution_count": null,
   "metadata": {
    "collapsed": false
   },
   "outputs": [],
   "source": [
    "i=0\n",
    "while i < 8:\n",
    "    print(i)\n",
    "    i += 1   # same as i = i + 1"
   ]
  },
  {
   "cell_type": "markdown",
   "metadata": {},
   "source": [
    "where again, i is the dummy variable. Here we have to manually increment the variable i so that eventually the condition in the while loop is eventually false, else we will result in an infinite loop.\n",
    "While loops are generally useful for certain iterative solving methods such as Newton's Method, Euler's Method, etc. They are good for when you input an initial guess, the code inside the loop modifies that guess based on some algorithm, and eventually reaches an answer based on your condition.\n"
   ]
  },
  {
   "cell_type": "markdown",
   "metadata": {},
   "source": [
    "### Exercise 3: If this not that\n",
    "\n",
    "Test your knowledge of lists iteration and conditionals!\n",
    "\n",
    "Define a function which takes a list of integers 'i_list' and an integer 'this'. For each element in 'i_list', print the element if it is larger than 'this'; otherwise, print the word \"that\". Aim to pass the tests!"
   ]
  },
  {
   "cell_type": "code",
   "execution_count": null,
   "metadata": {
    "collapsed": false
   },
   "outputs": [],
   "source": [
    "def if_this_not_that(INSERT ARGUMENTS HERE):\n",
    "    for item in i_list:\n",
    "        if item > this:\n",
    "            print(item)\n",
    "        else:\n",
    "            print(\"that\")\n",
    "            \n",
    "#should print (on separate lines): that that that 4 5\n",
    "original_list = [1, 2, 3, 4, 5]\n",
    "if_this_not_that(original_list, 3)"
   ]
  },
  {
   "cell_type": "markdown",
   "metadata": {},
   "source": [
    "### Functions and Recursion"
   ]
  },
  {
   "cell_type": "markdown",
   "metadata": {},
   "source": [
    "As we saw in the previous exercise, being able to define our own functions is useful and necessary for writing useful programs. Functions are a backbone of programming! It is good practice to functionalize programs so that we can repeat the same calculations with some variable parameter. \n",
    "\n",
    "Be careful though, as variables defined inside of function blocks are ONLY defined in the context of the function. We cannot access them outside of the function's environment.\n",
    "Though the time saved may not be obvious, the benefits will become apparent as your functions and calculations get longer and more complicated. "
   ]
  },
  {
   "cell_type": "markdown",
   "metadata": {},
   "source": [
    "### Some examples\n",
    "\n",
    "Functions can call other functions! The process of breaking a problem into smaller subproblems is one of the building block ideas of computer science.\n",
    "\n",
    "Here’s an example using two functions. The first function called square simply computes the square of a given number. The second function called sum_of_squares makes use of square to compute the sum of three numbers that have been squared."
   ]
  },
  {
   "cell_type": "code",
   "execution_count": null,
   "metadata": {
    "collapsed": false
   },
   "outputs": [],
   "source": [
    "def square(x):\n",
    "    y = x * x\n",
    "    return y\n",
    "\n",
    "def sum_of_squares(x, y, z):\n",
    "    a = square(x)\n",
    "    b = square(y)\n",
    "    c = square(z)\n",
    "    return a + b + c\n",
    "\n",
    "a = -5\n",
    "b = 2\n",
    "c = 10\n",
    "result = sum_of_squares(a, b, c)\n",
    "print(result)"
   ]
  },
  {
   "cell_type": "markdown",
   "metadata": {},
   "source": [
    "Another example of a function is below. This function takes in two lists and combines them into one list, with the first list first and the second list second."
   ]
  },
  {
   "cell_type": "code",
   "execution_count": null,
   "metadata": {
    "collapsed": false
   },
   "outputs": [],
   "source": [
    "def concat(lst1,lst2):\n",
    "    testlist=[]\n",
    "    for i in lst1:\n",
    "        testlist+=[i]\n",
    "    for i in lst2:\n",
    "        testlist+=[i]\n",
    "    return testlist\n",
    "\n",
    "combolst = concat([3,2,1],[34,5,6,5])\n",
    "print(combolst)"
   ]
  },
  {
   "cell_type": "markdown",
   "metadata": {},
   "source": [
    "### Exercise 4: Functions\n",
    "\n",
    "Implement the repeated function (fill in YOUR CODE HERE), which takes a one-argument function f, a positive integer n, and a parameter x. It returns the result of composing, or applying, f n times on x, i.e., f(f(...f(x)...)). Aim to pass the tests!"
   ]
  },
  {
   "cell_type": "code",
   "execution_count": null,
   "metadata": {
    "collapsed": false
   },
   "outputs": [],
   "source": [
    "\"\"\"Returns the result of composing f n times on x. \"\"\"\n",
    "def repeated(f, n, x):\n",
    "    result = x\n",
    "    while n > 0:\n",
    "        result = f(result)\n",
    "        n -=1    # subtracts n by 1. \n",
    "    return result\n",
    "\n",
    "def square(x):\n",
    "    return x * x\n",
    "\n",
    "\"\"\" Test cases below. Add print statements around them to try out your code. \"\"\"\n",
    "# should return 81\n",
    "print(repeated(square, 2, 3))  # square(square(3)), or 3 ** 4\n",
    "# should return 16\n",
    "repeated(square, 1, 4)  # square(4)\n",
    "# should return 18446744073709551616\n",
    "repeated(square, 6, 2)  # big number\n",
    "\n",
    "def opposite(b):\n",
    "    return not b\n",
    "# should return True\n",
    "repeated(opposite, 4, True)\n",
    "# should return False\n",
    "repeated(opposite, 5, True)\n",
    "# should return False\n",
    "repeated(opposite, 631, 1)\n",
    "# should return True\n",
    "repeated(opposite, 3, 0)\n"
   ]
  },
  {
   "cell_type": "markdown",
   "metadata": {},
   "source": [
    "### Exercise 5\n",
    "\n",
    "Now that you should have some sense of how a function works, define your own function which takes in your name and returns your name reversed. I've provided a basic skeleton below."
   ]
  },
  {
   "cell_type": "code",
   "execution_count": null,
   "metadata": {
    "collapsed": false
   },
   "outputs": [],
   "source": [
    "def reversename(name):\n",
    "    rev_name= ''      # we set this up so we don't alter the original variable \n",
    "    for i in name:    #use indexing to get a reversed list\n",
    "        rev_name = i + rev_name  #you can concatenate strings together by simply adding them. What would you add here?\n",
    "    return rev_name\n",
    "\n",
    "print(reversename(\"dawnia\")) # replace with your own name"
   ]
  },
  {
   "cell_type": "markdown",
   "metadata": {},
   "source": [
    "#### Recursion\n",
    "A recursive function is a function that calls itself. Recursion is a useful technique for reducing complex problems into much simpler problems. There are three parts to a recursive function: the base case, passing a simplified argument into the recursive call, and using the recursive call to solve the problem.\n",
    "\n",
    "There are several important recursive sequences in mathematics, including the Fibonacci sequence. Recursion involves having a function call itself until it reaches a certain condition. Factorials can be implemented recursively.\n",
    "This is done by:"
   ]
  },
  {
   "cell_type": "code",
   "execution_count": null,
   "metadata": {
    "collapsed": false
   },
   "outputs": [],
   "source": [
    "def factorial(n):\n",
    "    if n==0:   # base case\n",
    "        return 1\n",
    "    else:\n",
    "        print(n)\n",
    "        return n * factorial(n-1)   # recursive call, passing in (n-1) and multiplying the current number by n \n",
    "\n",
    "print(factorial(4))"
   ]
  },
  {
   "cell_type": "markdown",
   "metadata": {},
   "source": [
    "As you'll notice, in the simple case it returns a single number, 1. In the more complicated case where n is not 0, it multiplies our number n by the result of the next lowered factorial at n-1. This continues until our condition n==0 is met. "
   ]
  },
  {
   "cell_type": "markdown",
   "metadata": {},
   "source": [
    "### Exercise 6: Recursive functions\n",
    "\n",
    "Try to write a function which, for a given number, gives you the Fibonacci sum, defined as \n",
    "$$ fibonacci(n)= fibonacci(n-1) + fibonacci(n-2)$$\n",
    "where \n",
    "$fibonacci(0) = 0$ and $fibonacci(1)  = 1$\n",
    "\n",
    "Break it down into simpler problems."
   ]
  },
  {
   "cell_type": "code",
   "execution_count": null,
   "metadata": {
    "collapsed": false
   },
   "outputs": [],
   "source": [
    "\"\"\" Two possible solutions \"\"\"\n",
    "\n",
    "def fibonacci1(n):\n",
    "    if n==1 or n==2:\n",
    "        return 1\n",
    "    return fibonacci1(n-1) + fibonacci1(n-2)\n",
    "\n",
    "def fibonacci2(n):\n",
    "    if n == 0:\n",
    "        return 0\n",
    "    elif n == 1:\n",
    "        return 1\n",
    "    else:\n",
    "        return fibonacci2(n-1) + fibonacci2(n-2)\n",
    "    \n",
    "\n",
    "# 0, 1, 1, 2, 3, 5, 8, 13, 21, 34, ...\n",
    "print(fibonacci(7))   # should give 13"
   ]
  },
  {
   "cell_type": "markdown",
   "metadata": {},
   "source": [
    "### Exercise 6.5: Recursive functions II\n",
    "\n",
    "In Exercise 4, you used for loops to reverse your own name. Do the same thing now using recursion. This will be conceptually difficult so try to think about it and talk with your neighbor!"
   ]
  },
  {
   "cell_type": "code",
   "execution_count": null,
   "metadata": {
    "collapsed": false
   },
   "outputs": [],
   "source": [
    "def reversename2(name):\n",
    "    if name == \"\":\n",
    "        return name\n",
    "    else:\n",
    "        return reversename2(name[1:]) + name[0]   \n",
    "        # another solution: return name[-1] + reversename2(name[:-1])\n",
    "\n",
    "    \n",
    "print(reversename2(\"oskibear\")) "
   ]
  },
  {
   "cell_type": "markdown",
   "metadata": {},
   "source": [
    "### Curve Fitting\n",
    "Lastly, we are going to load in some data and try to fit some curve to it. We know how to write functions, use arrays, lists, and how to plot things (sort of ). To do this fit, we will be using the method of linear least squares to find a curve of best fit for a set of data. You do not have to know the intricacies of the method to use it. For a linear case, it reduces to the matrix equation:\n",
    "\n",
    "$$ \\begin{pmatrix}\n",
    "N & \\sum x_{i} \\\\\n",
    "\\sum x_{i} & \\sum x_{i}^2 \\\\\n",
    "\\end{pmatrix}\n",
    "\\begin{pmatrix}\n",
    "cfit \\\\\n",
    "mfit\\\\\n",
    "\\end{pmatrix}\n",
    "=\n",
    "\\begin{pmatrix}\n",
    "\\sum y_{i} \\\\\n",
    "\\sum x_{i} y_{i}\\\\\n",
    "\\end{pmatrix} $$\n",
    "\n",
    "where N is the number of elements, $x_{i}$ are the x values, $y_{i}$ are the y values, $cfit$ is the y-intercept, and $mfit$ is the slope."
   ]
  },
  {
   "cell_type": "code",
   "execution_count": null,
   "metadata": {
    "collapsed": false
   },
   "outputs": [],
   "source": [
    "\"\"\" Be sure to have uploaded data.txt! \"\"\"\n",
    "\n",
    "data = np.loadtxt('data.txt') # loading a data set. this is a useful thing to remember!\n",
    "data = np.transpose(data)   # interchange each row and its corresponding column\n",
    "x = data[0]\n",
    "y = data[1]\n",
    "plt.plot(x,y,'go',label='data')\n",
    "plt.legend(loc=2)\n",
    "plt.show()"
   ]
  },
  {
   "cell_type": "markdown",
   "metadata": {},
   "source": [
    "Above, we have loaded in some data. We transposed it to more easily index it. It looks like it is linear so it seems okay to approximate it with a linear fit. We can do this by setting up some matrices and solving the matrix equation above.\n"
   ]
  },
  {
   "cell_type": "code",
   "execution_count": null,
   "metadata": {
    "collapsed": false
   },
   "outputs": [],
   "source": [
    "matrix_one = np.array([ [ len(x), np.sum(x)],[np.sum(x),np.sum(x**2)]])\n",
    "matrix_three = np.array([ [np.sum(y)],[np.sum(x*y)]])\n",
    "cfit, mfit=np.dot(np.linalg.inv(matrix_one), matrix_three)\n",
    "bestfit= cfit + x*mfit\n",
    "plt.plot(x, bestfit,'b',label='best fit')\n",
    "plt.plot(x,y,'go',label='data')\n",
    "plt.legend(loc=2)\n",
    "plt.show()"
   ]
  },
  {
   "cell_type": "markdown",
   "metadata": {},
   "source": [
    "Above we have shown our line of best fit against the data, and it seems like a fairly good fit. It appears that a linear model was an appropriate one to use in this scenario.\n"
   ]
  },
  {
   "cell_type": "markdown",
   "metadata": {},
   "source": [
    "###  Exercise 7: Fit a quadratic polynomial\n",
    "Now that you have a decent idea of how to plot things, use the np.polyfit function below to try to fit higher order functions to the above data. "
   ]
  },
  {
   "cell_type": "code",
   "execution_count": null,
   "metadata": {
    "collapsed": false
   },
   "outputs": [],
   "source": [
    "#polyfit takes in three arguments: \n",
    "# x data, y data, and the nth degree polynomial you want to fit\n",
    "#for a quadratic polynomial this looks like:\n",
    "\n",
    "quad = np.polyfit(x,y,2)\n",
    "a = quad[0]\n",
    "b = quad[1]\n",
    "c = quad[2]\n",
    "quadfit = a*x**2 + b*x +c\n",
    "plt.plot(x, quadfit,'b',label='quad fit')\n",
    "plt.plot(x,bestfit,'r',label='linear fit')\n",
    "plt.plot(x,y,'go',label='data')\n",
    "plt.legend(loc=2)\n",
    "plt.show()\n",
    "\n",
    "# Try with a third and fourth order polynomial\n"
   ]
  },
  {
   "cell_type": "markdown",
   "metadata": {},
   "source": [
    "### Bonus: Images \n",
    "\n",
    "A fun section to go through if we finish early!\n",
    "\n",
    "Image analysis is incredibly useful. Facial recognition software, like those used by Snapchat, Facebook or Google Photos, attempts to recognize human faces in photos and successfully does so through deep learning, something beyond the scope of this bootcamp. This is just one of the many uses of image analysis in technology.\n",
    "To get to that stage though, one must know how to manipulate images using computers. Let's start by looking at a checkerboard image and trying to figure out where the boundaries are. We'll compare our answer to that of a function optimized to do this sort of thing.\n",
    "To do this, we'll use the scikit-image library, which we'll install using this command below. If you are having trouble, you may need to install as an administrator. If not, do not fret too much as you won't need it for the final exercise."
   ]
  },
  {
   "cell_type": "code",
   "execution_count": null,
   "metadata": {
    "collapsed": false
   },
   "outputs": [],
   "source": [
    "!pip install scikit-image"
   ]
  },
  {
   "cell_type": "code",
   "execution_count": null,
   "metadata": {
    "collapsed": false,
    "scrolled": true
   },
   "outputs": [],
   "source": [
    "from skimage import data, io, filters\n",
    "from scipy import ndimage as nd\n",
    "image = data.checkerboard() #gives us a nice checkerboard image\n",
    "edges = filters.sobel(image) #finds all the edges\n",
    "plt.imshow(image,cmap='gray')\n",
    "plt.show()\n",
    "#also finds all the edges \n",
    "im1 = nd.binary_dilation(image,iterations=2) -nd.binary_erosion(image,iterations=2 )\n",
    "plt.imshow(edges,cmap='gray')\n",
    "plt.show()\n",
    "plt.imshow(im1,cmap='gray')\n",
    "plt.show()"
   ]
  },
  {
   "cell_type": "markdown",
   "metadata": {},
   "source": [
    "#### Binary Dilation\n",
    "<img src ='diltbin.gif'/>\n",
    "#### Binary Erosion\n",
    "<img src ='erodbin.gif'/>"
   ]
  },
  {
   "cell_type": "markdown",
   "metadata": {},
   "source": [
    "This might seem rather silly but binary image analysis, the kind we just employed, has a lot of uses in scientific image analysis from telescopes to microscopes, especially if you need to find boundaries between objects in your images.\n",
    "\n",
    "You might still be wondering, how do I get any useful information from the actual image though?\n",
    "Images are two-dimensional arrays. At each pixel, there is a corresponding value that tells you what color that pixel is."
   ]
  },
  {
   "cell_type": "markdown",
   "metadata": {},
   "source": [
    "### Exercise  8: Messing with images\n",
    "In this exercise, you're going to load in an image of a pine tree and then mess around with it to get a better feel for indexing two dimensional arrays and for plotting.\n",
    "When we index images, we first have the y index then the x index.\n",
    "for example if I wanted the value at the (X,Y) coordinate pair of [400,1200], I would index the image like this: image[1200,400]. "
   ]
  },
  {
   "cell_type": "code",
   "execution_count": null,
   "metadata": {
    "collapsed": false
   },
   "outputs": [],
   "source": [
    "\"\"\" Be sure to have uploaded pinetree.png! \"\"\"\n",
    "\n",
    "from PIL import Image # a useful image library\n",
    "img = np.array(Image.open('pinetree.png')) #import our pinetree image\n",
    "plt.imshow(img) #plot it and show it\n",
    "plt.show()"
   ]
  },
  {
   "cell_type": "markdown",
   "metadata": {},
   "source": [
    "As you might have noticed, the plot above places the origin in the upper left corner, which is silly. We can fix this by specifying an argument in the plt.imshow() function"
   ]
  },
  {
   "cell_type": "code",
   "execution_count": null,
   "metadata": {
    "collapsed": false
   },
   "outputs": [],
   "source": [
    "plt.imshow(img,origin='lower') #plot it and show it\n",
    "plt.show()"
   ]
  },
  {
   "cell_type": "markdown",
   "metadata": {},
   "source": [
    "Now the damn tree is upside down. Use negative indexing to make it upright."
   ]
  },
  {
   "cell_type": "code",
   "execution_count": null,
   "metadata": {
    "collapsed": false
   },
   "outputs": [],
   "source": [
    "imgflip = np.copy(img[::-1]) #fill in the blank with the right indexing tool!\n",
    "plt.imshow(imgflip,origin='lower') #plot it and show it\n",
    "plt.show()"
   ]
  },
  {
   "cell_type": "markdown",
   "metadata": {},
   "source": [
    "Great! We have our tree upright and the origin in the proper place.\n",
    "There's a whole lot of white space though, let's zoom in so we don't have as much"
   ]
  },
  {
   "cell_type": "code",
   "execution_count": null,
   "metadata": {
    "collapsed": false
   },
   "outputs": [],
   "source": [
    "imgzoom = np.copy(imgflip[100:,])   # remember, when you index images, y comes before x. here we're cropping the y pixels to 100 and above.\n",
    "#fill in the blank above to index it to avoid the whitespace on bottom\n",
    "plt.imshow(imgzoom, origin='lower')\n",
    "plt.show()\n"
   ]
  },
  {
   "cell_type": "markdown",
   "metadata": {},
   "source": [
    "Now we're going to find out where all of the image is blank. In this case, it appears white but if we opened this image in photoshop or whatever it would have the checkerboard background indicating it's actually blank. We can find all of these blank pixels using the np.where function. "
   ]
  },
  {
   "cell_type": "code",
   "execution_count": null,
   "metadata": {
    "collapsed": false
   },
   "outputs": [],
   "source": [
    "#find where all the blank pixels are\n",
    "imblanky,imblankx,valid = np.where(imgzoom == [0,0,0,0])\n",
    "#make a copy of the image so we don't mess up the other one\n",
    "imcopy = np.copy(imgzoom)\n",
    "#set the blank pixels to some new color, try out some!\n",
    "imcopy[imblanky,imblankx] = [155,20,80,255]\n",
    "plt.imshow(imcopy,origin='lower')\n",
    "plt.show()"
   ]
  },
  {
   "cell_type": "markdown",
   "metadata": {},
   "source": [
    "Now try zooming into the just the top part of the tree."
   ]
  },
  {
   "cell_type": "code",
   "execution_count": null,
   "metadata": {
    "collapsed": false
   },
   "outputs": [],
   "source": [
    "imzoom2 = np.copy(imcopy[950:,320:550]) #fill in the indices\n",
    "plt.imshow(imzoom2,origin='lower')\n",
    "plt.show()"
   ]
  },
  {
   "cell_type": "markdown",
   "metadata": {},
   "source": [
    "As you can see, the indexing tools we employed on one dimensional arrays are just as useful when dealing with images (two dimensional arrays) and higher dimensional arrays."
   ]
  },
  {
   "cell_type": "markdown",
   "metadata": {},
   "source": [
    "## Congratulations, you have finished the Introductory Python Bootcamp!"
   ]
  }
 ],
 "metadata": {
  "anaconda-cloud": {},
  "kernelspec": {
   "display_name": "Python 3",
   "language": "python",
   "name": "python3"
  },
  "language_info": {
   "codemirror_mode": {
    "name": "ipython",
    "version": 3
   },
   "file_extension": ".py",
   "mimetype": "text/x-python",
   "name": "python",
   "nbconvert_exporter": "python",
   "pygments_lexer": "ipython3",
   "version": "3.6.0"
  }
 },
 "nbformat": 4,
 "nbformat_minor": 1
}
